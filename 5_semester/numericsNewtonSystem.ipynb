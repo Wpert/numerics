{
  "nbformat": 4,
  "nbformat_minor": 0,
  "metadata": {
    "colab": {
      "provenance": [],
      "authorship_tag": "ABX9TyPLRYpBnbnktaYYSU7QSdVE"
    },
    "kernelspec": {
      "name": "python3",
      "display_name": "Python 3"
    },
    "language_info": {
      "name": "python"
    }
  },
  "cells": [
    {
      "cell_type": "markdown",
      "source": [
        "Интересно на почитать [тут](https://habr.com/ru/articles/419453/), [тут](https://en.wikipedia.org/wiki/Newton's_method) и тут\n",
        "\n",
        "Надо решить простенькую систему нелинейных уравнений методом Ньютона\n",
        "\n",
        "\\begin{equation}\n",
        "  \\begin{cases}\n",
        "    f_1(x, y) = x^7 - 5x^2y^4 + 1510 = 0 \\\\\n",
        "    f_2(x, y) = y^5 - 3x^4y - 105 = 0\n",
        "  \\end{cases}\n",
        "\\end{equation}\n",
        "\n",
        "Дана система из $n$ уравнений:\n",
        "$\\vec{f}(\\vec{x}) = 0$\n",
        "\n",
        "\\begin{equation}\n",
        "  \\begin{cases}\n",
        "    f_1(x_1, x_2, \\dots, x_n) &= 0 \\\\\n",
        "    f_2(x_1, x_2, \\dots, x_n) &= 0 \\\\\n",
        "    \\vdots & \\vdots \\\\\n",
        "    f_n(x_1, x_2, \\dots, x_n) &= 0 \\\\\n",
        "  \\end{cases}\n",
        "\\end{equation}\n",
        "\n",
        "Описание шага:\n",
        "$$\\sum_{i = 1} \\dfrac{\\partial f_k (\\vec{x}^{(s)}) }{\\partial x_i} \\Delta x_i^{(s)} = -f_k(\\vec{x}^{(s)})$$\n",
        "\n",
        "Где $\\vec{x}^{(s+1)} = \\vec{x}^{(s)} + \\Delta \\vec{x}^{(s)}$\n",
        "\n",
        "Тогда метод Ньютона можно свести к методу простой итерации следующим образом:\n",
        "$$\\vec{\\varphi} (\\vec{x}) = \\vec{x} - [\\dfrac{\\partial \\vec{f}}{\\partial \\vec{x}}]^{-1} \\cdot \\vec{f}(\\vec{x}) $$\n",
        "\n",
        "Квадратичная скорость сходимости сохраняется как и в одномерном случае:\n",
        "$$|\\vec{x}^{(s+1)} - \\vec{x}^{(s)}| \\sim \\varepsilon^2$$"
      ],
      "metadata": {
        "id": "oqgPGffQwAkl"
      }
    },
    {
      "cell_type": "code",
      "execution_count": null,
      "metadata": {
        "id": "MoHFFVG8uXSS",
        "colab": {
          "base_uri": "https://localhost:8080/"
        },
        "outputId": "354334ec-6834-44d4-cc66-55560b691d25"
      },
      "outputs": [
        {
          "output_type": "stream",
          "name": "stdout",
          "text": [
            "f1\n",
            "-104\n"
          ]
        }
      ],
      "source": [
        "import sympy as sp\n",
        "import numpy as np\n",
        "\n",
        "x = sp.symbols('x')\n",
        "y = sp.symbols('y')\n",
        "\n",
        "fvars = [x, y]\n",
        "\n",
        "f1 = sp.Function('f1')(x, y)\n",
        "f2 = sp.Function('f1')(x, y)\n",
        "\n",
        "print(type(f1))\n",
        "\n",
        "f1 = x**7 - 5 * x**2 * y**4 + 1510\n",
        "f2 = y**5 - 3 * x**4 * y - 105\n",
        "\n",
        "point = [1, 1]\n",
        "\n",
        "\n",
        "callable_f1 = sp.lambdify((x, y), f1)\n",
        "callable_df1x = sp.lambdify((x, y), f1.diff(x))\n",
        "callable_df1y = sp.lambdify((x, y), f1.diff(y))\n",
        "\n",
        "\n",
        "callable_f2 = sp.lambdify((x, y), f2)\n",
        "callable_df2x = sp.lambdify((x, y), f2.diff(x))\n",
        "callable_df2y = sp.lambdify((x, y), f2.diff(y))\n",
        "\n",
        "xn = 0\n",
        "yn = 1\n",
        "\n",
        "print( callable_f2(xn, yn) )"
      ]
    },
    {
      "cell_type": "markdown",
      "source": [
        "Проверить моё решениие можно [здесь](https://www.wolframalpha.com/input?i=%7Bx**7+-+5+*+%28x**2%29+*+%28y**4%29+%2B+1510+%3D+0%2C+y**5+-+3+*+%28x**4%29+*+y+-+105+%3D+0%7D)"
      ],
      "metadata": {
        "id": "y_2uMSWhRg4U"
      }
    },
    {
      "cell_type": "code",
      "source": [
        "import numpy as np\n",
        "from typing import Tuple\n",
        "from decimal import Decimal\n",
        "\n",
        "def equations(vars: Tuple[float, float]):\n",
        "    x, y = vars\n",
        "    eq1 = x**7 - 5 * (x**2) * (y**4) + 1510\n",
        "    eq2 = y**5 - 3 * (x**4) * y - 105\n",
        "    return np.array([eq1, eq2])\n",
        "\n",
        "def newton_method(\n",
        "    initial_guess: Tuple[float, float],\n",
        "    tolerance=1e-4,\n",
        "    max_iter=100\n",
        "    ):\n",
        "    vars = np.array(initial_guess, dtype=np.double)\n",
        "\n",
        "    for index in range(max_iter):\n",
        "        Jacobian = np.array(\n",
        "            [[7 * (vars[0] ** 6) - 10 * vars[0] * (vars[1] ** 4)  , -20 * (vars[0] ** 2) * (vars[1] ** 3)],\n",
        "             [-12 * (vars[0] ** 3) * vars[1]                      , 5 * (vars[1] ** 4) - 3 * (vars[0] ** 4)]]\n",
        "          )\n",
        "        F = equations(vars)\n",
        "\n",
        "        delta = np.linalg.solve(Jacobian, -F)\n",
        "        vars += delta\n",
        "\n",
        "        print(f'Iteration-{index}, current (x, y): {vars}')\n",
        "        if np.linalg.norm(delta) < tolerance:\n",
        "            return vars\n",
        "\n",
        "initial_guess = [1, 1]\n",
        "solution = newton_method(initial_guess, tolerance=1e-6)\n",
        "\n",
        "print()\n",
        "print(\"Solution:\", solution)"
      ],
      "metadata": {
        "colab": {
          "base_uri": "https://localhost:8080/"
        },
        "id": "0wXea8T9MctY",
        "outputId": "42cee765-a01a-4c00-ef6c-8216f5bf2340"
      },
      "execution_count": 17,
      "outputs": [
        {
          "output_type": "stream",
          "name": "stdout",
          "text": [
            "Iteration-0, current (x, y): [ 4.54471545 75.76829268]\n",
            "Iteration-1, current (x, y): [ 4.09022462 60.61487016]\n",
            "Iteration-2, current (x, y): [ 3.68117438 48.49219929]\n",
            "Iteration-3, current (x, y): [ 3.31301861 38.79414969]\n",
            "Iteration-4, current (x, y): [ 2.98166822 31.0358242 ]\n",
            "Iteration-5, current (x, y): [ 2.68345243 24.82931646]\n",
            "Iteration-6, current (x, y): [ 2.41509703 19.86432147]\n",
            "Iteration-7, current (x, y): [ 2.17374089 15.89263453]\n",
            "Iteration-8, current (x, y): [ 1.95704921 12.71577626]\n",
            "Iteration-9, current (x, y): [ 1.76358109 10.17515702]\n",
            "Iteration-10, current (x, y): [1.59382971 8.14437335]\n",
            "Iteration-11, current (x, y): [1.45299832 6.52347922]\n",
            "Iteration-12, current (x, y): [1.35787854 5.2355881 ]\n",
            "Iteration-13, current (x, y): [1.35059879 4.22759105]\n",
            "Iteration-14, current (x, y): [1.50532515 3.48168438]\n",
            "Iteration-15, current (x, y): [1.82460366 3.0542223 ]\n",
            "Iteration-16, current (x, y): [1.9961687  3.00191529]\n",
            "Iteration-17, current (x, y): [1.99376294 3.01175054]\n",
            "Iteration-18, current (x, y): [1.99380111 3.01170568]\n",
            "Iteration-19, current (x, y): [1.99380111 3.01170568]\n",
            "\n",
            "Solution: [1.99380111 3.01170568]\n"
          ]
        }
      ]
    }
  ]
}