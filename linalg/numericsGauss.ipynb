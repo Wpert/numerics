{
  "nbformat": 4,
  "nbformat_minor": 0,
  "metadata": {
    "colab": {
      "provenance": [],
      "authorship_tag": "ABX9TyOzVu0NP7BaNNfwQDRgOj5u",
      "include_colab_link": true
    },
    "kernelspec": {
      "name": "python3",
      "display_name": "Python 3"
    },
    "language_info": {
      "name": "python"
    }
  },
  "cells": [
    {
      "cell_type": "markdown",
      "metadata": {
        "id": "view-in-github",
        "colab_type": "text"
      },
      "source": [
        "<a href=\"https://colab.research.google.com/github/Wpert/numerics/blob/main/numericsGauss.ipynb\" target=\"_parent\"><img src=\"https://colab.research.google.com/assets/colab-badge.svg\" alt=\"Open In Colab\"/></a>"
      ]
    },
    {
      "cell_type": "markdown",
      "source": [
        "Постановка задачи всё та же, что и в прошлой лаборатной работе:\n",
        "\n",
        "Дана система уравнений $Ax = b$, найти решение этой системы $x$.\n",
        "\n",
        "Метод решения абсолютно школьный, его асимтотика $O(n^3)$.\n",
        "Ничего абсолютно нового нет.\n",
        "\n",
        "$\\left(\n",
        "  \\begin{array}{cccc|c}\n",
        "      a_{11} & a_{12} & \\dots & a_{1n}  & b_1 \\\\\n",
        "      a_{21} & a_{22} & \\dots & a_{2n}  & b_2 \\\\\n",
        "      \\vdots &        & \\ddots & \\vdots & b_3 \\\\\n",
        "      a_{11} & a_{12} & \\dots & a_{1n}  & b_n \\\\\n",
        "  \\end{array}\n",
        "\\right) \\Rightarrow\n",
        "\\left(\n",
        "  \\begin{array}{cccc|c}\n",
        "      a'_{11} & a'_{12} & \\dots  & a'_{1n}  & b'_1   \\\\\n",
        "      0       & a'_{22} & \\dots  & a'_{2n}  & b'_2   \\\\\n",
        "      \\vdots  &         & \\ddots & \\vdots   & \\vdots \\\\\n",
        "      0       & 0       & \\dots  & a'_{1n}  & b'_n   \\\\\n",
        "  \\end{array}\n",
        "\\right)$\n",
        "\n",
        "После чего можно легко понять ранг матрицы и, если возможно, найти едиственное решение системы уравнений.\n",
        "\n",
        "\n"
      ],
      "metadata": {
        "id": "LfrbA4Vjz985"
      }
    },
    {
      "cell_type": "code",
      "execution_count": 33,
      "metadata": {
        "id": "3l9j0mXe9GVD"
      },
      "outputs": [],
      "source": [
        "import numpy as np\n",
        "import matplotlib.pyplot as plt\n",
        "from typing import Tuple\n",
        "\n",
        "def isEqual(x, y) -> bool:\n",
        "  return np.isclose(x, y, rtol=1e-05, atol=1e-08, equal_nan=False)\n",
        "\n",
        "def GenerateMatrixOnes(N: int) -> Tuple[np.ndarray, np.ndarray]:\n",
        "  Matr = np.full((N, N), 0.5) - np.random.rand(N, N)\n",
        "  A = np.dot(Matr.T, Matr)\n",
        "  b = np.zeros((N, 1))\n",
        "  for i in range(N):\n",
        "    b[i] += np.sum(A[i, :])\n",
        "\n",
        "  return (A, b)\n",
        "\n",
        "def GenerateRandomMatrix(N: int) -> Tuple[np.ndarray, np.ndarray]:\n",
        "  return ( np.random.randint(30, size=(N, N)), np.random.randint(30, size=(N, 1)) )\n",
        "\n",
        "def GaussianElimination(A: np.ndarray, b: np.ndarray) -> Tuple[np.ndarray, np.ndarray]:\n",
        "    C = np.array(A, dtype=float)\n",
        "    d = np.array(b, dtype=float)\n",
        "\n",
        "    N = len(b)\n",
        "    for i in range(0, N - 1):\n",
        "        if np.abs(C[i, i]) == 0:\n",
        "            for k in range(i + 1, N):\n",
        "                if np.abs(C[k, i]) > np.abs(C[i, i]):\n",
        "                    C[[i, k]] = C[[k, i]]\n",
        "                    d[[i, k]] = d[[k, i]]\n",
        "                    break\n",
        "\n",
        "        for j in range(i + 1, N):\n",
        "            if (isEqual(C[i, i], 0)):\n",
        "                m = 0\n",
        "            else:\n",
        "              m = C[j, i] / C[i, i]\n",
        "\n",
        "            C[j, : ] = C[j, : ] - m * C[i, : ]\n",
        "            d[j] = d[j] - m * d[i]\n",
        "\n",
        "    return C, d\n",
        "\n",
        "def StepBack(C: np.ndarray, d: np.ndarray) -> np.ndarray:\n",
        "  N = d.size\n",
        "\n",
        "  if (GetRank(C) < N):\n",
        "    raise Exception(\"Система не имеет единственного решения.\")\n",
        "\n",
        "  x = np.zeros((N, 1))\n",
        "  x[N - 1] = d[N - 1] / C[N - 1, N-1]\n",
        "\n",
        "  for i in range(N - 2, -1, -1):\n",
        "    sum_ = 0\n",
        "\n",
        "    for j in range(i + 1, N):\n",
        "      sum_ = sum_ + C[i, j] * x[j]\n",
        "\n",
        "    x[i] = (d[i] - sum_) / C[i, i]\n",
        "\n",
        "  return x\n",
        "\n",
        "def GetRank(C: np.ndarray) -> int:\n",
        "  N = C.shape[0]\n",
        "  cntZeroRows = len(np.where(~C.any(axis=1))[0])\n",
        "  return N - cntZeroRows;"
      ]
    },
    {
      "cell_type": "markdown",
      "source": [
        "Соотв применение метода Гаусса:"
      ],
      "metadata": {
        "id": "VudGQkvG1VX1"
      }
    },
    {
      "cell_type": "code",
      "source": [
        "from sympy import Matrix, init_printing\n",
        "init_printing()\n",
        "# A = np.array([[1, 2, 3, 4],\n",
        "#               [4, 8, 12, 16],\n",
        "#               [3, 6, 9, 12],\n",
        "#               [1, 1, 1, 1]])\n",
        "# b = [[1],\n",
        "#      [2],\n",
        "#      [3],\n",
        "#      [1]]\n",
        "\n",
        "# Генерируем матрицу\n",
        "N: int = 4\n",
        "A, b = GenerateRandomMatrix(N)\n",
        "# A, b = GenerateMatrixOnes(N)\n",
        "\n",
        "# Выводим всю информацию на экран\n",
        "print('Исходная матрица:')\n",
        "display(Matrix(A))\n",
        "print('Столбец свободных членов:')\n",
        "display(Matrix(b))\n",
        "\n",
        "# Применяем метод и находим решение x\n",
        "C, d = GaussianElimination(A, b)\n",
        "\n",
        "print(\"\\n Результат работы программы: \\n\")\n",
        "\n",
        "try:\n",
        "  x = StepBack(C, d)\n",
        "\n",
        "  print('Преобразованная матрица A:')\n",
        "  display(Matrix(C))\n",
        "  print('Найденное решение x:')\n",
        "  display(Matrix(x))\n",
        "  print(f'Ранг матрицы: {GetRank(C)}')\n",
        "\n",
        "  det = np.prod(np.diagonal(C))\n",
        "  rightDet = np.linalg.det(A)\n",
        "  print(f\"\\n Правильный определитель матрицы = {rightDet}\")\n",
        "  print(f\"\\n Мой определитель матрицы = {det}\")\n",
        "\n",
        "  print(\"\\n Проверка результата: [A]{x} - b =\")\n",
        "  display(Matrix(np.matmul(A, x) - b))\n",
        "\n",
        "  # Тест на правильность\n",
        "  assert(isEqual(rightDet, det))\n",
        "except Exception as no_sol:\n",
        "  print(no_sol.args)"
      ],
      "metadata": {
        "colab": {
          "base_uri": "https://localhost:8080/",
          "height": 668
        },
        "id": "_T10C5-I1U_F",
        "outputId": "7d9f1cda-6297-4cc0-f44e-d0bddfffce6c"
      },
      "execution_count": 34,
      "outputs": [
        {
          "output_type": "stream",
          "name": "stdout",
          "text": [
            "Исходная матрица:\n"
          ]
        },
        {
          "output_type": "display_data",
          "data": {
            "text/plain": [
              "⎡16  3   3   7 ⎤\n",
              "⎢              ⎥\n",
              "⎢12  17  29  5 ⎥\n",
              "⎢              ⎥\n",
              "⎢8   13  9   21⎥\n",
              "⎢              ⎥\n",
              "⎣10  0   17  15⎦"
            ],
            "text/latex": "$\\displaystyle \\left[\\begin{matrix}16 & 3 & 3 & 7\\\\12 & 17 & 29 & 5\\\\8 & 13 & 9 & 21\\\\10 & 0 & 17 & 15\\end{matrix}\\right]$"
          },
          "metadata": {}
        },
        {
          "output_type": "stream",
          "name": "stdout",
          "text": [
            "Столбец свободных членов:\n"
          ]
        },
        {
          "output_type": "display_data",
          "data": {
            "text/plain": [
              "⎡3 ⎤\n",
              "⎢  ⎥\n",
              "⎢13⎥\n",
              "⎢  ⎥\n",
              "⎢0 ⎥\n",
              "⎢  ⎥\n",
              "⎣5 ⎦"
            ],
            "text/latex": "$\\displaystyle \\left[\\begin{matrix}3\\\\13\\\\0\\\\5\\end{matrix}\\right]$"
          },
          "metadata": {}
        },
        {
          "output_type": "stream",
          "name": "stdout",
          "text": [
            "\n",
            " Результат работы программы: \n",
            "\n",
            "Преобразованная матрица A:\n"
          ]
        },
        {
          "output_type": "display_data",
          "data": {
            "text/plain": [
              "⎡16.0   3.0          3.0               7.0       ⎤\n",
              "⎢                                                ⎥\n",
              "⎢ 0    14.75        26.75             -0.25      ⎥\n",
              "⎢                                                ⎥\n",
              "⎢ 0      0    -13.3559322033898  17.6949152542373⎥\n",
              "⎢                                                ⎥\n",
              "⎣ 0      0            0          35.1370558375635⎦"
            ],
            "text/latex": "$\\displaystyle \\left[\\begin{matrix}16.0 & 3.0 & 3.0 & 7.0\\\\0 & 14.75 & 26.75 & -0.25\\\\0 & 0 & -13.3559322033898 & 17.6949152542373\\\\0 & 0 & 0 & 35.1370558375635\\end{matrix}\\right]$"
          },
          "metadata": {}
        },
        {
          "output_type": "stream",
          "name": "stdout",
          "text": [
            "Найденное решение x:\n"
          ]
        },
        {
          "output_type": "display_data",
          "data": {
            "text/plain": [
              "⎡0.226271308870269 ⎤\n",
              "⎢                  ⎥\n",
              "⎢0.0127130887026871⎥\n",
              "⎢                  ⎥\n",
              "⎢0.392408263507657 ⎥\n",
              "⎢                  ⎥\n",
              "⎣-0.26224357122219 ⎦"
            ],
            "text/latex": "$\\displaystyle \\left[\\begin{matrix}0.226271308870269\\\\0.0127130887026871\\\\0.392408263507657\\\\-0.26224357122219\\end{matrix}\\right]$"
          },
          "metadata": {}
        },
        {
          "output_type": "stream",
          "name": "stdout",
          "text": [
            "Ранг матрицы: 4\n",
            "\n",
            " Правильный определитель матрицы = -110751.99999999991\n",
            "\n",
            " Мой определитель матрицы = -110752.0\n",
            "\n",
            " Проверка результата: [A]{x} - b =\n"
          ]
        },
        {
          "output_type": "display_data",
          "data": {
            "text/plain": [
              "⎡          0          ⎤\n",
              "⎢                     ⎥\n",
              "⎢          0          ⎥\n",
              "⎢                     ⎥\n",
              "⎢-1.77635683940025e-15⎥\n",
              "⎢                     ⎥\n",
              "⎣-8.88178419700125e-16⎦"
            ],
            "text/latex": "$\\displaystyle \\left[\\begin{matrix}0\\\\0\\\\-1.77635683940025 \\cdot 10^{-15}\\\\-8.88178419700125 \\cdot 10^{-16}\\end{matrix}\\right]$"
          },
          "metadata": {}
        }
      ]
    }
  ]
}