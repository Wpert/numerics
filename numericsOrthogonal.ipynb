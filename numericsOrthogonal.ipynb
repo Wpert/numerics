{
  "nbformat": 4,
  "nbformat_minor": 0,
  "metadata": {
    "colab": {
      "provenance": [],
      "authorship_tag": "ABX9TyMms0WvVM+aimxUHQXA69Af"
    },
    "kernelspec": {
      "name": "python3",
      "display_name": "Python 3"
    },
    "language_info": {
      "name": "python"
    }
  },
  "cells": [
    {
      "cell_type": "markdown",
      "source": [
        "Тут будет решение 4 лабы и описание теории\n",
        "\n",
        "здесь применяется метод ортогонализации граммом и шмидтом\n",
        "\n",
        "Дана СЛАУ всё того же вида Ax = b\n",
        "\n",
        "Запишем расширенную матрицу:\n",
        "\n",
        "$\\left(\n",
        "  \\begin{array}{cccc|c}\n",
        "      a_{11} & a_{12} & \\dots & a_{1n}  & b_1 \\\\\n",
        "      a_{21} & a_{22} & \\dots & a_{2n}  & b_2 \\\\\n",
        "      \\vdots &        & \\ddots & \\vdots & b_3 \\\\\n",
        "      a_{11} & a_{12} & \\dots & a_{1n}  & b_n \\\\\n",
        "  \\end{array}\n",
        "\\right)$\n",
        "\n",
        "И теперь мы хотим найти решение каким-то ортогональным образом\n",
        "\n",
        "Тогда дополним расширенную матрицу вектором $\\begin{pmatrix} 0  & 0 & \\dots & 0 & 1\\end{pmatrix}$ до следующего вида:\n",
        "\n",
        "$\\left(\n",
        "  \\begin{array}{cccc|c}\n",
        "      a_{11} & a_{12} & \\dots & a_{1n}  & b_1 \\\\\n",
        "      a_{21} & a_{22} & \\dots & a_{2n}  & b_2 \\\\\n",
        "      \\vdots &        & \\ddots & \\vdots & b_3 \\\\\n",
        "      a_{11} & a_{12} & \\dots & a_{1n}  & b_n \\\\\n",
        "      0      & 0      & \\dots & 0       & 1   \\\\\n",
        "  \\end{array}\n",
        "\\right)$\n",
        "\n",
        "Теперь каждые строки ортогонализуем методом Грама-Шмидта\n",
        "и получаем решение Matrix[i, 0:N] / Matrix[N, N]\n",
        "\n",
        "Надо будет дописать, так как ничего не обосновано"
      ],
      "metadata": {
        "id": "VdQH4CRU9G0F"
      }
    },
    {
      "cell_type": "code",
      "source": [
        "import numpy as np\n",
        "import matplotlib.pyplot as plt\n",
        "from typing import Tuple\n",
        "from sympy import Matrix, init_printing\n",
        "init_printing()\n",
        "\n",
        "def isEqual(x, y) -> bool:\n",
        "  return np.isclose(x, y, rtol=1e-05, atol=1e-08, equal_nan=False)\n",
        "\n",
        "def compareSolutions(x_1: np.ndarray, x_2: np.ndarray) -> bool:\n",
        "  for i in range(x.shape[1]):\n",
        "    if (not isEqual(x_1[i], x_2[i])):\n",
        "      return False\n",
        "  return True\n",
        "\n",
        "def GenerateMatrixOnes(N: int) -> Tuple[np.ndarray, np.ndarray]:\n",
        "  Matr = np.full((N, N), 0.5) - np.random.rand(N, N)\n",
        "  A = np.dot(Matr.T, Matr)\n",
        "  b = np.zeros((N, 1))\n",
        "  for i in range(N):\n",
        "    b[i] += np.sum(A[i, :])\n",
        "\n",
        "  return (A, b)\n",
        "\n",
        "def GenerateRandomMatrix(N: int) -> Tuple[np.ndarray, np.ndarray]:\n",
        "  return ( np.random.randint(30, size=(N, N)), np.random.randint(30, size=(N, 1)) )\n",
        "\n",
        "def ConcatAndAddVec(A, b) -> np.ndarray:\n",
        "  Mtrx = np.concatenate((A, b * (-1)), axis=1)\n",
        "  Mtrx = np.concatenate((Mtrx, np.zeros((1, Mtrx.shape[1]))), axis=0)\n",
        "  Mtrx[N,N] = 1\n",
        "  return Mtrx\n",
        "\n",
        "# given (v_1, v_2, ..., v_n)\n",
        "# need to\n",
        "# g_1 = v_1\n",
        "# g_2 = v_2 - a * g_1\n",
        "# g_3 = v_3 - b * g_1 - c * g_2\n",
        "# ...\n",
        "# a = (g_1, v_2) / (g_1, g_1)\n",
        "#\n",
        "# b = (g_1, v_3) / (g_1 , g_1)\n",
        "# c = (g_2, v_3) / (g_2, g_2)\n",
        "\n",
        "def GrammShmidt(A: np.ndarray, b: np.ndarray) -> np.ndarray:\n",
        "  Mtrx = ConcatAndAddVec(A, b)\n",
        "  N = A.shape[0]\n",
        "\n",
        "  for i in range(N + 1):\n",
        "    v_i = Mtrx[i]\n",
        "\n",
        "    g_i = v_i.copy()\n",
        "    for j in range(i):\n",
        "      g_j = Mtrx[j]\n",
        "\n",
        "      coeff = np.dot(v_i, g_j) / np.dot(g_j, g_j)\n",
        "      g_i -= coeff * Mtrx[j]\n",
        "\n",
        "    Mtrx[i] = g_i\n",
        "\n",
        "  for i in range(N + 1):\n",
        "    Mtrx[i] = Mtrx[i] / np.linalg.norm(Mtrx[i])\n",
        "\n",
        "  solution = Mtrx[N, 0:N] / Mtrx[N, N]\n",
        "  return solution.reshape((N, 1))"
      ],
      "metadata": {
        "id": "teNv3By83o1b"
      },
      "execution_count": null,
      "outputs": []
    },
    {
      "cell_type": "markdown",
      "source": [
        "Применяем полученное знание свыше и заодно проверяем верно ли нашли решение.\n",
        "\n",
        "Асимптотика аналогична методу Гаусса, раве что константы могут быть различны.\n",
        "\n",
        "Также было выявлено, что погрешность вычислений накапливается быстрее, чем в методе Гаусса, так что способ вроде бы и хорош, но не без недостатков."
      ],
      "metadata": {
        "id": "DDDZ3NqBaVzv"
      }
    },
    {
      "cell_type": "code",
      "source": [
        "N = 4\n",
        "A, b = GenerateRandomMatrix(N)\n",
        "print(\"Сгенерированная матрица:\")\n",
        "display(Matrix(A))\n",
        "print(\"Сгенерированная правая часть:\")\n",
        "display(Matrix(b))\n",
        "\n",
        "x = GrammShmidt(A, b)\n",
        "print(\"Найденное решение СЛАУ:\")\n",
        "display(Matrix(x))\n",
        "\n",
        "print(\"Невязка:\")\n",
        "display(Matrix(np.matmul(A, x) - b))\n",
        "\n",
        "assert(compareSolutions(np.linalg.solve(A, b), x))"
      ],
      "metadata": {
        "colab": {
          "base_uri": "https://localhost:8080/",
          "height": 413
        },
        "id": "Tnq8s0HL7Kg4",
        "outputId": "65d9581a-18e1-41c1-f7de-37da0adc3ea0"
      },
      "execution_count": null,
      "outputs": [
        {
          "output_type": "stream",
          "name": "stdout",
          "text": [
            "Сгенерированная матрица:\n"
          ]
        },
        {
          "output_type": "display_data",
          "data": {
            "text/plain": [
              "⎡15  26  8   22⎤\n",
              "⎢              ⎥\n",
              "⎢1   22  14  22⎥\n",
              "⎢              ⎥\n",
              "⎢18  3   1   11⎥\n",
              "⎢              ⎥\n",
              "⎣8   18  7   20⎦"
            ],
            "text/latex": "$\\displaystyle \\left[\\begin{matrix}15 & 26 & 8 & 22\\\\1 & 22 & 14 & 22\\\\18 & 3 & 1 & 11\\\\8 & 18 & 7 & 20\\end{matrix}\\right]$"
          },
          "metadata": {}
        },
        {
          "output_type": "stream",
          "name": "stdout",
          "text": [
            "Сгенерированная правая часть:\n"
          ]
        },
        {
          "output_type": "display_data",
          "data": {
            "text/plain": [
              "⎡25⎤\n",
              "⎢  ⎥\n",
              "⎢20⎥\n",
              "⎢  ⎥\n",
              "⎢17⎥\n",
              "⎢  ⎥\n",
              "⎣11⎦"
            ],
            "text/latex": "$\\displaystyle \\left[\\begin{matrix}25\\\\20\\\\17\\\\11\\end{matrix}\\right]$"
          },
          "metadata": {}
        },
        {
          "output_type": "stream",
          "name": "stdout",
          "text": [
            "Найденное решение СЛАУ:\n"
          ]
        },
        {
          "output_type": "display_data",
          "data": {
            "text/plain": [
              "⎡1.62167300380229 ⎤\n",
              "⎢                 ⎥\n",
              "⎢0.306321292775662⎥\n",
              "⎢                 ⎥\n",
              "⎢3.15478453738911 ⎥\n",
              "⎢                 ⎥\n",
              "⎣-1.4785329531052 ⎦"
            ],
            "text/latex": "$\\displaystyle \\left[\\begin{matrix}1.62167300380229\\\\0.306321292775662\\\\3.15478453738911\\\\-1.4785329531052\\end{matrix}\\right]$"
          },
          "metadata": {}
        },
        {
          "output_type": "stream",
          "name": "stdout",
          "text": [
            "Невязка:\n"
          ]
        },
        {
          "output_type": "display_data",
          "data": {
            "text/plain": [
              "⎡1.4210854715202e-14⎤\n",
              "⎢                   ⎥\n",
              "⎢         0         ⎥\n",
              "⎢                   ⎥\n",
              "⎢8.5265128291212e-14⎥\n",
              "⎢                   ⎥\n",
              "⎣-7.105427357601e-15⎦"
            ],
            "text/latex": "$\\displaystyle \\left[\\begin{matrix}1.4210854715202 \\cdot 10^{-14}\\\\0\\\\8.5265128291212 \\cdot 10^{-14}\\\\-7.105427357601 \\cdot 10^{-15}\\end{matrix}\\right]$"
          },
          "metadata": {}
        }
      ]
    }
  ]
}