{
  "cells": [
    {
      "cell_type": "markdown",
      "metadata": {
        "id": "uUuKVbtZwW32"
      },
      "source": [
        "Задача 6 лабы:\n",
        "\n",
        "Как всегда дана СЛАУ вида $Ax = b$,\n",
        "\n",
        "1. Построить СЛАУ 4-го порядка с плохо обусловленной матрицей ($\\det A < 10^{-10}$).\n",
        "2. Попытаться найти ее решение методом оптимального исключения (метод Гаусса-Жордано).\n",
        "3. Нормализовать СЛАУ: $Ax = b \\quad \\rightarrow \\quad (A^T A + \\alpha E) x = A^T b$, где $\\alpha$- параметр регуляризации.\n",
        "4. Провести серию вычислений для определения нормального псевдорешения нормализованной системы.\n",
        "5.  Найти оптимальное значение параметра $\\alpha$, обеспечивающего минимальное значение сферической нормы невязки исходной системы для псевдорешения.\n",
        "\n",
        "$$Ax = b \\quad \\rightarrow \\quad (A^TA + \\alpha E)x = A^Tb$$\n",
        "\n",
        "$$\\min_x \\{F(x)\\} = min_x \\{(Ax - b, Ax - b) + \\alpha (x, x)\\} \\geq 0$$\n",
        "\n",
        "$$F(x) = (Ax, Ax) + 2 (Ax, b) + (b, b) + \\alpha (x, x)$$\n",
        "\n",
        "$$F(x) = (x, A^T Ax) + \\alpha (x, x) + 2 (x, A^T b) + (b, b)$$\n",
        "\n",
        "Берём дополнительным условием необходимое условие, чтобы найти минимум: $\\frac{\\displaystyle dF(x)}{\\displaystyle dx} = 0$\n",
        "\n",
        "$$\\Rightarrow (A^T A + \\alpha E)x = A^T b$$\n",
        "$$x_{\\alpha} = (A^T A + \\alpha E)^{-1} A^T b$$\n",
        "\n",
        "Соответственно подсчитываем невязку $\\delta = b - A x_{\\alpha}$ и её норму $\\lVert \\delta \\rVert_2$."
      ]
    },
    {
      "cell_type": "code",
      "execution_count": 171,
      "metadata": {
        "id": "PmiIbL01wSa-"
      },
      "outputs": [],
      "source": [
        "import numpy as np\n",
        "from typing import Tuple\n",
        "from sympy import Matrix, init_printing\n",
        "init_printing()\n",
        "\n",
        "def GenMatrix(N: int) -> Tuple[np.ndarray, np.ndarray]:\n",
        "  Mtrx = np.random.randint(20, size=(1, N + 1))\n",
        "  cnt = 1\n",
        "\n",
        "  while (cnt < N):\n",
        "    if (cnt % 2 == 0):\n",
        "      randRow = np.random.randint(20, size=(1, N + 1))\n",
        "      Mtrx = np.concatenate((Mtrx, randRow), axis=0)\n",
        "    else:\n",
        "      Mtrx = np.concatenate((Mtrx, [Mtrx[-1, :] + 0.1]), axis=0)\n",
        "    cnt += 1\n",
        "\n",
        "  Mtrx = Mtrx.astype('float64')\n",
        "\n",
        "  A = Mtrx[:, 0 : N]\n",
        "  b = Mtrx[:, -1]\n",
        "  b = b.reshape(N, 1)\n",
        "  return (A, b)\n",
        "\n",
        "def regularization(A: np.ndarray, b: np.ndarray, alpha: float) -> np.ndarray:\n",
        "  x1 = b.copy()\n",
        "  x1 = np.matmul(np.linalg.inv(np.matmul(A.T, A) + np.eye(b.shape[0]) * alpha), np.matmul(A.T, b))\n",
        "  # display(Matrix(x1))\n",
        "  return x1\n",
        "\n",
        "def findMin(A: np.ndarray, b: np.ndarray) -> Tuple[np.ndarray, float]:\n",
        "  dNorm: float = 50.0\n",
        "  sol = []\n",
        "  l = 0\n",
        "  r = 10\n",
        "  eps = 1e-5\n",
        "\n",
        "  while (dNorm > eps):\n",
        "    tl: float = l + (r - l) / 3\n",
        "    tr: float = r - (r - l) / 3\n",
        "\n",
        "    # Тернарный поиск\n",
        "    xl = regularization(A, b, tl)\n",
        "    dl = b - np.matmul(A, xl)\n",
        "\n",
        "    xr = regularization(A, b, tr)\n",
        "    dr = b - np.matmul(A, xr)\n",
        "\n",
        "    if (np.linalg.norm(dr) > np.linalg.norm(dl)):\n",
        "      r = tr\n",
        "      dNorm = np.linalg.norm(dr)\n",
        "      sol = xl.copy()\n",
        "    else:\n",
        "      l = tl\n",
        "      dNorm = np.linalg.norm(dl)\n",
        "      sol = xr.copy()\n",
        "\n",
        "  return (sol, (l + r) / 2)"
      ]
    },
    {
      "cell_type": "code",
      "source": [
        "A, b = GenMatrix(4)\n",
        "\n",
        "print(\"Сгенерированный столбец:\")\n",
        "display(Matrix(b))\n",
        "print(\"Сгенерированная матрица:\")\n",
        "display(Matrix(A))\n",
        "print(\"Определитель матрицы = \", np.linalg.det(A))\n",
        "\n",
        "x, min_alpha = findMin(A, b)\n",
        "d = b - np.matmul(A, x)\n",
        "\n",
        "print(\"Найденное решение:\")\n",
        "display(Matrix(x))\n",
        "print(\"Невязка:\")\n",
        "display(Matrix(d))\n",
        "print(\"Сферическая норма невязки = \", np.linalg.norm(d))\n",
        "print(\"Минимальное alpha = \", min_alpha)"
      ],
      "metadata": {
        "colab": {
          "base_uri": "https://localhost:8080/",
          "height": 464
        },
        "id": "VDQWt4Pq1MAf",
        "outputId": "be049c94-96f9-4db9-a5ec-cbef122b9208"
      },
      "execution_count": 172,
      "outputs": [
        {
          "output_type": "stream",
          "name": "stdout",
          "text": [
            "Сгенерированный столбец:\n"
          ]
        },
        {
          "output_type": "display_data",
          "data": {
            "text/plain": [
              "⎡18.0⎤\n",
              "⎢    ⎥\n",
              "⎢18.1⎥\n",
              "⎢    ⎥\n",
              "⎢7.0 ⎥\n",
              "⎢    ⎥\n",
              "⎣7.1 ⎦"
            ],
            "text/latex": "$\\displaystyle \\left[\\begin{matrix}18.0\\\\18.1\\\\7.0\\\\7.1\\end{matrix}\\right]$"
          },
          "metadata": {}
        },
        {
          "output_type": "stream",
          "name": "stdout",
          "text": [
            "Сгенерированная матрица:\n"
          ]
        },
        {
          "output_type": "display_data",
          "data": {
            "text/plain": [
              "⎡7.0   16.0  12.0  9.0⎤\n",
              "⎢                     ⎥\n",
              "⎢7.1   16.1  12.1  9.1⎥\n",
              "⎢                     ⎥\n",
              "⎢12.0  19.0  8.0   2.0⎥\n",
              "⎢                     ⎥\n",
              "⎣12.1  19.1  8.1   2.1⎦"
            ],
            "text/latex": "$\\displaystyle \\left[\\begin{matrix}7.0 & 16.0 & 12.0 & 9.0\\\\7.1 & 16.1 & 12.1 & 9.1\\\\12.0 & 19.0 & 8.0 & 2.0\\\\12.1 & 19.1 & 8.1 & 2.1\\end{matrix}\\right]$"
          },
          "metadata": {}
        },
        {
          "output_type": "stream",
          "name": "stdout",
          "text": [
            "Определитель матрицы =  -1.2612133559741184e-14\n",
            "Найденное решение:\n"
          ]
        },
        {
          "output_type": "display_data",
          "data": {
            "text/plain": [
              "⎡-1.06650173664093⎤\n",
              "⎢                 ⎥\n",
              "⎢0.643852472305298⎥\n",
              "⎢                 ⎥\n",
              "⎢0.786575794219971⎥\n",
              "⎢                 ⎥\n",
              "⎣0.636106729507446⎦"
            ],
            "text/latex": "$\\displaystyle \\left[\\begin{matrix}-1.06650173664093\\\\0.643852472305298\\\\0.786575794219971\\\\0.636106729507446\\end{matrix}\\right]$"
          },
          "metadata": {}
        },
        {
          "output_type": "stream",
          "name": "stdout",
          "text": [
            "Невязка:\n"
          ]
        },
        {
          "output_type": "display_data",
          "data": {
            "text/plain": [
              "⎡2.50339508056641e-6 ⎤\n",
              "⎢                    ⎥\n",
              "⎢-8.22544098610933e-7⎥\n",
              "⎢                    ⎥\n",
              "⎢4.05311584472656e-6 ⎥\n",
              "⎢                    ⎥\n",
              "⎣7.27176665549223e-7 ⎦"
            ],
            "text/latex": "$\\displaystyle \\left[\\begin{matrix}2.50339508056641 \\cdot 10^{-6}\\\\-8.22544098610933 \\cdot 10^{-7}\\\\4.05311584472656 \\cdot 10^{-6}\\\\7.27176665549223 \\cdot 10^{-7}\\end{matrix}\\right]$"
          },
          "metadata": {}
        },
        {
          "output_type": "stream",
          "name": "stdout",
          "text": [
            "Сферическая норма невязки =  4.888772819149664e-06\n",
            "Минимальное alpha =  2.0097272630703612e-07\n"
          ]
        }
      ]
    }
  ],
  "metadata": {
    "colab": {
      "provenance": [],
      "authorship_tag": "ABX9TyN6A8muAbcxiwbXkO56nTLe"
    },
    "kernelspec": {
      "display_name": "Python 3",
      "name": "python3"
    },
    "language_info": {
      "name": "python"
    }
  },
  "nbformat": 4,
  "nbformat_minor": 0
}