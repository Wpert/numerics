{
  "cells": [
    {
      "cell_type": "markdown",
      "metadata": {
        "id": "view-in-github",
        "colab_type": "text"
      },
      "source": [
        "<a href=\"https://colab.research.google.com/github/Wpert/numerics/blob/main/numericsSOR.ipynb\" target=\"_parent\"><img src=\"https://colab.research.google.com/assets/colab-badge.svg\" alt=\"Open In Colab\"/></a>"
      ]
    },
    {
      "cell_type": "markdown",
      "source": [
        "Описывать подробно генерацию рандомной матрицы с единичным рещением не буду, а вот сам метод верхней релаксации думаю стоит описать подробнее.\n",
        "\n",
        "Теория\n",
        "---\n",
        "Дана система уравнений $Ax = b$, вида:\n",
        "<!-- \\begin{vmatrix}\n",
        "  М & 0 & 0\\\\\n",
        "  0 & И & Ф\\\\\n",
        "  0 & -И & 1\n",
        "\\end{vmatrix} -->\n",
        "\n",
        "\n",
        "\\begin{equation*}\n",
        " \\begin{cases}\n",
        "   a_{11} x_1 + a_{12} x_2 + \\dots + a_{1n} x_n &= b_1\\\\\n",
        "   a_{21} x_1 + a_{22} x_2 + \\dots + a_{2n} x_n &= b_2\\\\\n",
        "   \\vdots \\\\\n",
        "   a_{n1} x_1 + a_{n2} x_2 + \\dots + a_{nn} x_n &= b_n\\\\\n",
        " \\end{cases}\n",
        "\\end{equation*}\n",
        "\n",
        "Соответственно требуется найти решение этой системы уравнений. И не просто найти, а итерационным методом найти с какой-либо точностью.\n",
        "\n",
        "Ещё до моего рождения умные люди придумали метод Зейделя, а на его основе метод нижней / верхней релаксации.\n",
        "\n",
        "В подробности вдаваться не хочу, потому сразу к делу. Буду доказывать будто этот медот уже всем известен и ничего указывать не буду.\n",
        "\n",
        "$$A = L  + D + U,$$\n",
        "\n",
        "где $A = \\begin{pmatrix}\n",
        "            a_{11} & a_{22} & \\dots & a_{1n} \\\\\n",
        "            a_{21} & a_{22} & \\dots & a_{2n} \\\\\n",
        "            \\vdots & \\vdots &       & \\vdots \\\\\n",
        "            a_{n1} & a_{n2} & \\dots & a_{nn} \\\\\n",
        "\\end{pmatrix},\n",
        "L = \\begin{pmatrix}\n",
        "            0      & 0      & \\dots & 0 \\\\\n",
        "            a_{21} & 0      & \\dots & 0 \\\\\n",
        "            \\vdots & \\vdots &       & \\vdots \\\\\n",
        "            a_{n1} & a_{n2} & \\dots & a_{nn} \\\\\n",
        "\\end{pmatrix}$\n",
        "\n",
        "$U = \\begin{pmatrix}\n",
        "            0      & a_{22} & \\dots & a_{1n} \\\\\n",
        "            0      & 0      & \\dots & a_{2n} \\\\\n",
        "            \\vdots & \\vdots &       & \\vdots \\\\\n",
        "            0      & 0      & \\dots & 0 \\\\\n",
        "\\end{pmatrix},\n",
        "D = \\begin{pmatrix}\n",
        "            a_{11} & 0      & \\dots & 0 \\\\\n",
        "            0      & a_{22} & \\dots & 0 \\\\\n",
        "            \\vdots & \\vdots &       & \\vdots \\\\\n",
        "            0      & 0      & \\dots & a_{nn} \\\\\n",
        "\\end{pmatrix}.$\n",
        "\n",
        "Тогда уравнение можно переписать в следующем виде:\n",
        "\n",
        "$$ Ax = b $$\n",
        "$$ (L + D + U) x = b $$\n",
        "$$ ω(L + D + U) x = ωb $$\n",
        "$$ ωLx = ωb - ωDx - ωUx $$\n",
        "$$ Dx + ωLx = ωb - ωUx - ωDx + Dx $$\n",
        "$$ (D + ωL) x = ωb - [ωU - (ω - 1)D] x \\tag{1} $$\n",
        "\n",
        "И, насколько мне известно, при коэффициенте $ω > 1$ это метод верхней релаксации, а при $0 < ω < 1$ это метод нижней релаксации. Но при $\\omega = 1$ этот метод переходит в точности в метод Зейделя. То есть затраты на память и асимтотическая сложность абсолютно такая же как и у метода Зейделя, но благодаря некоторой работе с дополнительной константой можно ускорить работу программы в несколько раз.\n",
        "\n",
        "Теперь можно переписать равенство как:\n",
        "\n",
        "$$ (D + ωL) x^{(k + 1)} = ωb - [ωU - (ω - 1)D] x^{(k)} $$\n",
        "$$ x^{(k + 1)} = (D + ωL)^{-1} (ωb - [ωU - (ω - 1)D] x^{(k)}) $$\n",
        "\n",
        "Отсюда и получим конечную формулу:\n",
        "$$ x^{(k + 1)} = (1 - ω)x^{(k)}_{i} + \\frac{\\omega}{a_{ii}}(b_i - \\sum_{j < i}a_{ij}x^{(k + 1)}_{j} - \\sum_{j > i}a_{ij}x^{(k)}_{j}) $$"
      ],
      "metadata": {
        "id": "kbp-hJpxmnXq"
      }
    },
    {
      "cell_type": "code",
      "source": [
        "from numpy.linalg.linalg import LinAlgError\n",
        "import numpy as np\n",
        "import matplotlib.pyplot as plt\n",
        "from typing import Tuple, List\n",
        "\n",
        "# Генерация рандомной матрицы с единичным решением\n",
        "def GenerateRandomMtrx(N: int) -> Tuple[np.ndarray, np.ndarray]:\n",
        "    Matr = np.random.randint(-20, 20 + 1, size=(N, N))\n",
        "    A = np.dot(Matr.T, Matr)\n",
        "    b = np.zeros((N, 1))\n",
        "    for i in range(N):\n",
        "        b[i] += np.sum(A[i, :])\n",
        "\n",
        "    return (A, b)\n",
        "\n",
        "# Рассчёт невязки\n",
        "def calcResidual() -> float:\n",
        "    return 0.0\n",
        "\n",
        "def SOR_method(A: np.ndarray, b: np.ndarray) -> Tuple[List[int], List[int]]:\n",
        "    MAX: int = 500 # Максимальная граница вычислений\n",
        "\n",
        "    N = A.shape[0]\n",
        "    x = np.zeros((N, 1))\n",
        "\n",
        "    omega_list = [0.005 + 0.005 * i for i in range(400)]\n",
        "    length = len(A)\n",
        "    counts = [] # будем записывать количество итераций для каждого значения  omega\n",
        "\n",
        "    for omega in omega_list: # соответственно и начнём итерироваться по каждой omegs\n",
        "        times = 0\n",
        "        x_0 = np.zeros((length, 1))\n",
        "\n",
        "        x_hold = x_0 + np.ones((length, 1))\n",
        "        try:\n",
        "            while (np.linalg.norm(x_hold - x_0, ord=2) >= 10 ** (-5)) and (times <= MAX):\n",
        "                # Условием остановки является разница между k+1 и k итерацией и максимальное число итераций\n",
        "                x_hold = x_0.copy()\n",
        "                x_new = x_0.copy()\n",
        "                for i in range(length):\n",
        "                    # В цикле считаем формулу из теоретического блока\n",
        "                    x_new[i][0] = x_0[i][0] + omega * (b[i][0] - sum([A[i][j] * x_new[j][0] for j in range(i)])\\\n",
        "                                            - sum([A[i][j] * x_0[j][0] for j in range(i, length)])) / A[i][i]\n",
        "                    x_0 = x_new.copy()\n",
        "                    times += 1\n",
        "        except LinAlgError:\n",
        "            times = MAX\n",
        "\n",
        "        # Записываем количество итераций цикла\n",
        "        counts.append(times)\n",
        "\n",
        "    return (omega_list, counts)"
      ],
      "metadata": {
        "id": "2nR8Ekp1lvQ3"
      },
      "execution_count": null,
      "outputs": []
    },
    {
      "cell_type": "markdown",
      "source": [
        "Соответственно ниже представлено применение этих функций."
      ],
      "metadata": {
        "id": "WRFoWUy3xQn-"
      }
    },
    {
      "cell_type": "code",
      "execution_count": null,
      "metadata": {
        "colab": {
          "base_uri": "https://localhost:8080/"
        },
        "id": "KJHEwb58h15x",
        "outputId": "5b9b164c-7d36-4623-fd12-96bb193829ee"
      },
      "outputs": [
        {
          "output_type": "stream",
          "name": "stdout",
          "text": [
            "Сгенерированная матрица (4, 4)\n",
            "[[ 691   12  -96 -414]\n",
            " [  12  143  130  355]\n",
            " [ -96  130  182  322]\n",
            " [-414  355  322 1269]] \n",
            "\n",
            "Сгенерированный столбец (4, 1)\n",
            "[[ 193.]\n",
            " [ 640.]\n",
            " [ 538.]\n",
            " [1532.]] \n",
            "\n"
          ]
        }
      ],
      "source": [
        "# # пример матрицы A -- 4х4\n",
        "# A = np.array([[4, -1, 0, 0],\n",
        "#               [-1, 4, -1, 0],\n",
        "#               [0, -1, 4, -1],\n",
        "#               [0, 0, -1, 3]])\n",
        "# # пример столбца B\n",
        "# b = np.array([[15], [10], [10], [10]])\n",
        "A, b = GenerateRandomMtrx(4)\n",
        "\n",
        "print(\"Сгенерированная матрица\", A.shape)\n",
        "print(A, '\\n')\n",
        "print(\"Сгенерированный столбец\", b.shape)\n",
        "print(b, '\\n')\n",
        "\n",
        "omega_list, counts = SOR_method(A, b)\n",
        "\n",
        "# Рисуем зависимость между тетой и количеством итераций\n",
        "plt.plot(omega_list, counts, ':')\n",
        "plt.show()\n",
        "\n",
        "min_omega = omega_list[counts.index(min(counts))]\n",
        "print(f\"Минимальная \\u03B8 = {min_omega}\")\n"
      ]
    },
    {
      "cell_type": "markdown",
      "source": [
        "Давайте выясним какое среднее значение $\\theta$, при котором достигается наименьшее значение количества итераций метода верхней релаксации"
      ],
      "metadata": {
        "id": "bHRMHYcZl7zZ"
      }
    },
    {
      "cell_type": "code",
      "execution_count": null,
      "metadata": {
        "colab": {
          "base_uri": "https://localhost:8080/"
        },
        "id": "q_ir-5iDiCMN",
        "outputId": "87b3331c-10be-42dd-e604-afa45250421e"
      },
      "outputs": [
        {
          "output_type": "stream",
          "name": "stdout",
          "text": [
            "1.107\n"
          ]
        }
      ],
      "source": [
        "from numpy.linalg.linalg import LinAlgError\n",
        "import numpy as np\n",
        "import matplotlib.pyplot as plt\n",
        "\n",
        "N: int = 5\n",
        "\n",
        "theta_min_list = []\n",
        "for operations in range(50):\n",
        "  A, b = GenerateRandomMtrx(N)\n",
        "  omega_list, counts = SOR_method(A, b)\n",
        "  min_omega = omega_list[counts.index(min(counts))]\n",
        "  theta_min_list.append(min_omega)\n",
        "\n",
        "print(sum(theta_min_list) / len(theta_min_list))"
      ]
    }
  ],
  "metadata": {
    "colab": {
      "provenance": [],
      "authorship_tag": "ABX9TyMFA5aU4UCEbsMo8pm6h9aJ",
      "include_colab_link": true
    },
    "kernelspec": {
      "display_name": "Python 3",
      "name": "python3"
    },
    "language_info": {
      "name": "python"
    }
  },
  "nbformat": 4,
  "nbformat_minor": 0
}