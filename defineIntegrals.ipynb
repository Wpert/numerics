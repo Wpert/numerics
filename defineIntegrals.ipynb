{
  "nbformat": 4,
  "nbformat_minor": 0,
  "metadata": {
    "colab": {
      "provenance": [],
      "authorship_tag": "ABX9TyMrPlFI8Q9eCr1XRNjGfsko",
      "include_colab_link": true
    },
    "kernelspec": {
      "name": "python3",
      "display_name": "Python 3"
    },
    "language_info": {
      "name": "python"
    }
  },
  "cells": [
    {
      "cell_type": "markdown",
      "metadata": {
        "id": "view-in-github",
        "colab_type": "text"
      },
      "source": [
        "<a href=\"https://colab.research.google.com/github/Wpert/numerics/blob/main/defineIntegrals.ipynb\" target=\"_parent\"><img src=\"https://colab.research.google.com/assets/colab-badge.svg\" alt=\"Open In Colab\"/></a>"
      ]
    },
    {
      "cell_type": "markdown",
      "source": [
        "# Определённые интегралы\n",
        "\n",
        "Итак, пора бы начаучиться считать определенные интегралы. Пока что не буду ставить своей целью математически сторого обосновывать все асимптотики и точности, с которыми приближает значнеия тот или иной метод. В рамках изучения методов я так или иначе сам всё примерно запомню. А в этом файлике чтобы сделать меньше ошибок думаю стоит оставить всё как есть.\n",
        "\n",
        "Сперва найдём среди использованных ранее мной библиотек ту, которая позволит мне считать интегралы (sympy). И научимся их вычислять, мне надо достаточно долго поиграться чтобы осознать что происходит.\n",
        "\n",
        "После от меня требуется написать несколько алгоритмов, которые будут высчитывать интегралы. И придумать какие-нибудь тесты, чтобы была видна точность каждого из алгоритмов.\n",
        "\n",
        "Всё это проводится так как есть большое желание написать разложение какой-нибудь функции в триг. ряд Фурье на плюсах. Но пока ещё не имею достаточного опыта в численных расчетах."
      ],
      "metadata": {
        "id": "NfhNoYue55DQ"
      }
    },
    {
      "cell_type": "code",
      "execution_count": null,
      "metadata": {
        "id": "7nO_hzaUypVH",
        "colab": {
          "base_uri": "https://localhost:8080/",
          "height": 153
        },
        "outputId": "782813db-5831-4f9d-e985-d09938ca24e6"
      },
      "outputs": [
        {
          "output_type": "display_data",
          "data": {
            "text/plain": [
              "√π"
            ],
            "text/latex": "$\\displaystyle \\sqrt{\\pi}$"
          },
          "metadata": {}
        },
        {
          "output_type": "display_data",
          "data": {
            "text/plain": [
              "1"
            ],
            "text/latex": "$\\displaystyle 1$"
          },
          "metadata": {}
        },
        {
          "output_type": "display_data",
          "data": {
            "text/plain": [
              "0"
            ],
            "text/latex": "$\\displaystyle 0$"
          },
          "metadata": {}
        },
        {
          "output_type": "display_data",
          "data": {
            "text/plain": [
              "0"
            ],
            "text/latex": "$\\displaystyle 0$"
          },
          "metadata": {}
        },
        {
          "output_type": "display_data",
          "data": {
            "text/plain": [
              "1/4"
            ],
            "text/latex": "$\\displaystyle \\frac{1}{4}$"
          },
          "metadata": {}
        },
        {
          "output_type": "display_data",
          "data": {
            "text/plain": [
              "2"
            ],
            "text/latex": "$\\displaystyle 2$"
          },
          "metadata": {}
        }
      ],
      "source": [
        "import numpy as np\n",
        "import matplotlib.pyplot as plt\n",
        "import sympy as sp\n",
        "from typing import Tuple, List, Union\n",
        "sp.init_printing()\n",
        "\n",
        "from sympy import log, exp, oo, cos, sin, pi\n",
        "from sympy.abc import x\n",
        "\n",
        "expr_1 = exp(-x**2)\n",
        "expr_2 = 1 / x ** 2\n",
        "expr_3 = cos(x) + 2 * sin(x)\n",
        "expr_4 = cos(2 * x) * cos(x)\n",
        "expr_5 = 2 * sin(x) * cos(x) * cos(2 * x)\n",
        "expr_6 = sin(x)\n",
        "\n",
        "display( sp.integrate(expr_1, (x, -oo, oo)) )\n",
        "display( sp.integrate(expr_2, (x, 1, oo)) )\n",
        "display( sp.integrate(expr_3, (x, 0, 2 * pi )) )\n",
        "display( sp.integrate(expr_4, (x, 0, pi)) )\n",
        "display( sp.integrate(expr_5, (x, 0, pi / 4)) )\n",
        "display( sp.integrate(expr_6, (x, 0, pi)) )\n",
        "\n",
        "def ResidualInt(expr, func, interval: Tuple[float], eps) -> None:\n",
        "  from sympy.abc import x\n",
        "  a = interval[0]\n",
        "  b = interval[1]\n",
        "  solution = sp.integrate(expr, (x, a, b))\n",
        "\n",
        "  # return np.abs(solution - 0.0)"
      ]
    },
    {
      "cell_type": "markdown",
      "source": [
        "Сперва попробую реализовать самый тривиум подсчета интеграла. Без подсчета мне кажется, что подсчет через подход Дарбу будет малоэффективен даже с вида самой формулы. (Искать минимумы, максимумы на отрезках вообще будто бы не для вычислений придумывалось)\n",
        "\n",
        "На прямой подсчет с помощью формулы Ньютона-Лейбница я ещё не дорос, так как даже и близко не представляю как запрограммировать трюки интегрирования. Вероятно каким-то образом надо выразить все элементраные функции через одну хорошую и считать интегралы отталкиваясь от неё. Может быть разложить в какой-то функциональный ряд и интегрировать на радиусе сходимости.\n",
        "\n",
        "Потому пока сделаем по определению интеграла Римана разбиение, на каждом отрезке отмечаем каким-нибудь образом точку и тогда запишем интегральную сумму следующим образом.\n",
        "\n",
        "$$\\sigma (f, P, \\xi) = \\sum_i f(\\xi_i) \\cdot |I_i|$$\n",
        "\n",
        "Значит сейчас буду пробовать отмечать точку рандомом или брать середину отрезка.\n",
        "\n",
        "Сходу можно сказать, что вероятностный выбор точки будет работать медленнее, чем деление, а погрешность непредсказуемой как раз из-за рандома, когда в то же время подсчет прямоугольников с высотой равной $f(\\frac{a + b}{2})$ намного проще и более предсказуем с заданной функцией.\n",
        "\n",
        "Также можно реализовать подсчёт методом трапеций:\n",
        "$$\\sigma (f, P, \\xi) = \\sum_i \\frac{f(a_i) + f(b_i)}{2} \\cdot I_i$$"
      ],
      "metadata": {
        "id": "udR-OJQy6xVT"
      }
    },
    {
      "cell_type": "code",
      "source": [
        "import numpy as np\n",
        "import matplotlib.pyplot as plt\n",
        "import sympy as sp\n",
        "from typing import Tuple, List, Callable\n",
        "import typing\n",
        "import math as mt\n",
        "\n",
        "def RandomRiemannIntegral(func: Callable, from_: float, to_: float, N: int) -> float:\n",
        "  a_b = np.linspace(from_, to_, N)\n",
        "  dx = (to_ - from_) / (N - 1)\n",
        "  xi = [np.random.uniform(a_b[i], a_b[i + 1]) for i in range(N - 1)]\n",
        "\n",
        "  sum = 0\n",
        "  for xi_ in xi:\n",
        "    sum += func(xi_)\n",
        "\n",
        "  sum *= dx\n",
        "  return sum\n",
        "\n",
        "# the same code tbh\n",
        "def MiddleRiemannIntegral(func: Callable, from_: float, to_: float, N: int) -> float:\n",
        "  a_b = np.linspace(from_, to_, N)\n",
        "  dx = (to_ - from_) / (N - 1)\n",
        "  xi = [(a_b[i] + a_b[i + 1]) / 2 for i in range(N - 1)]\n",
        "\n",
        "  sum = 0\n",
        "  for xi_ in xi:\n",
        "    sum += func(xi_)\n",
        "\n",
        "  sum *= dx\n",
        "  return sum\n",
        "\n",
        "def TrapezoidRiemannIntegral(func: Callable, from_: float, to_: float, N: int) -> float:\n",
        "  a_b = np.linspace(from_, to_, N)\n",
        "  dx = (to_ - from_) / (N - 1)\n",
        "  sum = 0\n",
        "\n",
        "  for i in range(N - 1):\n",
        "    sum += func(a_b[i]) + func(a_b[i + 1])\n",
        "\n",
        "  sum /= 2\n",
        "  sum *= dx\n",
        "  return sum\n",
        "\n",
        "def TestAppr(*args: List[Callable]):\n",
        "  from sympy import integrate, oo, pi\n",
        "  from sympy.abc import x\n",
        "\n",
        "  def Test(func: Callable, N: int, *args: List[Callable]):\n",
        "    testFunc = func\n",
        "    testExpr = func(x)\n",
        "    a, b = (0, float(pi.evalf()))\n",
        "\n",
        "    rightValue = sp.integrate(testExpr, (x, a, b))\n",
        "    print(f'Right value {rightValue}')\n",
        "\n",
        "    for intFunc in args:\n",
        "      value = intFunc(testFunc, a, b, N)\n",
        "      print(intFunc.__name__)\n",
        "      print(np.abs(rightValue - value))\n",
        "    print()\n",
        "\n",
        "    # integral_0^π sqrt(x)dx = (2 π^(3/2))/3 ≈ 3.71221866455447\n",
        "    # integral_0^π e^x dx = e^π - 1 ≈ 22.1406926327793\n",
        "  functions = [sp.sqrt, sp.exp, sp.cos]\n",
        "  for pwr in range(1, 3):\n",
        "\n",
        "    N = 20 * 10 ** pwr\n",
        "    print(f'N = {N}')\n",
        "    for func in functions:\n",
        "      print(f\"---{func.__name__}Test---\")\n",
        "      Test(func, N, *args)\n",
        "\n",
        "TestAppr(RandomRiemannIntegral, MiddleRiemannIntegral, TrapezoidRiemannIntegral)"
      ],
      "metadata": {
        "id": "j9SgxeGf6Acw",
        "colab": {
          "base_uri": "https://localhost:8080/"
        },
        "outputId": "44e9b601-71c2-437d-8a3a-af9b0748af9d"
      },
      "execution_count": 16,
      "outputs": [
        {
          "output_type": "stream",
          "name": "stdout",
          "text": [
            "N = 200\n",
            "---sqrtTest---\n",
            "Right value 3.71221866455447\n",
            "RandomRiemannIntegral\n",
            "0.000768493438111584\n",
            "MiddleRiemannIntegral\n",
            "0.000117846493902007\n",
            "TrapezoidRiemannIntegral\n",
            "0.000406495879285096\n",
            "\n",
            "---expTest---\n",
            "Right value 22.1406926327793\n",
            "RandomRiemannIntegral\n",
            "0.0148309106190396\n",
            "MiddleRiemannIntegral\n",
            "0.000229916636175886\n",
            "TrapezoidRiemannIntegral\n",
            "0.000459834704884088\n",
            "\n",
            "---cosTest---\n",
            "Right value 1.22464679914735E-16\n",
            "RandomRiemannIntegral\n",
            "0.00151371394065302\n",
            "MiddleRiemannIntegral\n",
            "1.64529425619362e-16\n",
            "TrapezoidRiemannIntegral\n",
            "9.61742138493436e-17\n",
            "\n",
            "N = 2000\n",
            "---sqrtTest---\n",
            "Right value 3.71221866455447\n",
            "RandomRiemannIntegral\n",
            "1.74549826175152e-5\n",
            "MiddleRiemannIntegral\n",
            "3.76447415151304e-6\n",
            "TrapezoidRiemannIntegral\n",
            "1.28937743664181e-5\n",
            "\n",
            "---expTest---\n",
            "Right value 22.1406926327793\n",
            "RandomRiemannIntegral\n",
            "0.000435093737756631\n",
            "MiddleRiemannIntegral\n",
            "2.27852650880322e-6\n",
            "TrapezoidRiemannIntegral\n",
            "4.55705318103128e-6\n",
            "\n",
            "---cosTest---\n",
            "Right value 1.22464679914735E-16\n",
            "RandomRiemannIntegral\n",
            "2.04204552662454e-5\n",
            "MiddleRiemannIntegral\n",
            "6.80267123620243e-17\n",
            "TrapezoidRiemannIntegral\n",
            "3.91044160910672e-17\n",
            "\n"
          ]
        }
      ]
    },
    {
      "cell_type": "markdown",
      "source": [
        "Здесь я посчитаю площадь, приближая функцию параболами. Тогда нам дана функция $f(x)$, отрезок $I_i = [a, b]$.\n",
        "\n",
        "Значит чтобы построить параболу $\\alpha x^2 + \\beta x + \\gamma = 0$ требуется найти её коэффициенты, при чем мы можем узнать значения функции от аргумента.\n",
        "\n",
        "Построим следующую систему уравнений\n",
        "\\begin{array}{rcl}\n",
        "  \\alpha a^2 + \\beta a + \\gamma & = f(a) \\\\\n",
        "  \\alpha b^2 + \\beta b + \\gamma & = f(b) \\\\\n",
        "  \\alpha c^2 + \\beta c + \\gamma & = f(c)\n",
        "\\end{array}\n",
        "Которая эквивалентна следующей записи\n",
        "\n",
        "$$ \\begin{pmatrix} a^2 & a & 1 \\\\ b^2 & b & 1 \\\\ c^2 & c & 1 \\end{pmatrix} \\times \\begin{pmatrix} \\alpha \\\\ \\beta \\\\ \\gamma \\end{pmatrix} = \\begin{pmatrix} f(a) \\\\ f(b) \\\\ f(c) \\end{pmatrix}$$\n",
        "\n",
        "<!-- $\\left[\\begin{array}{c} x_1 \\\\ x_2 \\end{array} \\right] = \\begin{bmatrix} A & B \\\\ C & D \\end{bmatrix} \\times \\left[ \\begin{array}{c} y_1 \\\\ y_2 \\end{array} \\right]$ -->\n",
        "\n",
        "А как решать подобные системы мы уже знаем, но я предпочту использовать np.linalg.solve(), чтобы не нагружать очень блоки кода. Естественно, можно сразу сказать, что данное решение мало того что очень затратно по времени, так ещё и по памяти.\n",
        "\n",
        "Теперь, зная коэффициенты, можно тривиально посчитать площадь под графиком.\n",
        "$$ S = \\int_a^b \\alpha x^2 + \\beta x + \\gamma \\,dx = (\\frac{\\alpha}{3} x^3 + \\frac{\\beta}{2} x^2 + \\gamma x)\\Bigg|_a^b $$"
      ],
      "metadata": {
        "id": "lJ3A61tTvdgN"
      }
    },
    {
      "cell_type": "code",
      "source": [
        "import numpy as np\n",
        "import matplotlib.pyplot as plt\n",
        "import sympy as sp\n",
        "from sympy import integrate, log, exp, oo, cos, sin, pi\n",
        "from typing import Tuple, List, Callable\n",
        "import typing\n",
        "import math as mt\n",
        "\n",
        "def calcPolySurface(coeffs: np.array, from_, to_) -> float:\n",
        "  a_ = float(coeffs[0]) / 3\n",
        "  b_ = float(coeffs[1]) / 2\n",
        "  c_ = float(coeffs[2])\n",
        "\n",
        "  sum_b = ((a_ * to_ + b_) * to_ + c_) * to_\n",
        "  sum_a = ((a_ * from_ + b_) * from_ + c_) * from_\n",
        "\n",
        "  return sum_b - sum_a\n",
        "\n",
        "def makeVandermondMtrx(b: np.array) -> np.array:\n",
        "  N = b.shape[0]\n",
        "  A = np.ones((N, N))\n",
        "  for i in range(N - 1):\n",
        "    A[:, N - 1 - i - 1] = (A[:, N - i - 1].reshape(3,1) * b).reshape(3,)\n",
        "  return A\n",
        "\n",
        "def ParabolicRiemannIntegral(func: Callable, from_: float, to_: float, N: int) -> float:\n",
        "  a_b = np.linspace(from_, to_, N)\n",
        "  sum = 0\n",
        "\n",
        "  for i in range(N - 1):\n",
        "    xi = np.array([[a_b[i]],\n",
        "                   [(a_b[i] + a_b[i + 1]) / 2],\n",
        "                   [a_b[i + 1]]])\n",
        "\n",
        "    A = makeVandermondMtrx(xi)\n",
        "    F = np.vectorize(func)(xi).reshape(3, 1)\n",
        "    F = np.vectorize(float)(F).reshape(3, 1)\n",
        "\n",
        "    coeffs = np.linalg.solve(A, F)\n",
        "    sum += calcPolySurface(coeffs.reshape(3), a_b[i], a_b[i + 1])\n",
        "\n",
        "  return sum\n",
        "\n",
        "# print(calcSquarePoly((0, 0, 1), 0, 2))\n",
        "\n",
        "print(ParabolicRiemannIntegral(sp.sqrt, 0, float(pi.evalf()), 200))\n",
        "    # integral_0^π sqrt(x)dx = (2 π^(3/2))/3 ≈ 3.71221866455447\n",
        "b = np.array([[4],\n",
        "              [9],\n",
        "              [15]])\n",
        "A = makeVandermondMtrx(b)\n",
        "print(A)\n",
        "F = np.array([[15],\n",
        "              [80],\n",
        "              [224]])\n",
        "print(np.linalg.solve(A, F))"
      ],
      "metadata": {
        "id": "Mh0AgP6FSKTu",
        "colab": {
          "base_uri": "https://localhost:8080/"
        },
        "outputId": "c04b2cf3-7af6-4289-82aa-1a4249de4eed"
      },
      "execution_count": 17,
      "outputs": [
        {
          "output_type": "stream",
          "name": "stdout",
          "text": [
            "3.7121617302573133\n",
            "[[ 16.   4.   1.]\n",
            " [ 81.   9.   1.]\n",
            " [225.  15.   1.]]\n",
            "[[ 1.00000000e+00]\n",
            " [-5.55111512e-16]\n",
            " [-1.00000000e+00]]\n"
          ]
        }
      ]
    },
    {
      "cell_type": "markdown",
      "source": [
        "А тут можно попытаться реализовать метод Симпсона (метод парабол). Для начала надо вывести его аналитически, идея всё та же, что и в алгоритме сверху, нам дан отрезок $I_i = [a, b]$, мы берём три точки $a, b, m = \\frac{a + b}{2}$ и подбираем такой многочлен, который будет проходить сквозь эти точки.\n",
        "\n",
        "Такое чувство, будто метод выше и этот не будут отличаться по точности совершенно никак, все-таки я делаю абсолютно одно и то же, просто разными способами. Метод Симпсона будет разве что быстрее в несколько раз.\n",
        "\n",
        "Функцию можно приблизить интерполяционным многочленом Лагранжа, представив её в виде:\n",
        "$$\\begin{align*} f(x) &\\approx P_2(x) = f(a) \\frac{(x - m)(x - b)}{(a - m)(a - b)} + f(m) \\frac{(x - a)(x - b)}{(m - a)(m - b)} + f(b) \\frac{(x - a)(x - m)}{(b - a)(b - m)} =\\\\\n",
        "&= 2 f(a) \\frac{x^2 - (m + b)x + mb}{(a - b)(a - b)} + 4 f(m) \\frac{x^2 - (a + b)x + ab}{(b - a) (a - b)} + 2 f(b) \\frac{x^2 - (a + m)x + am}{(b - a)(b - a)} \\\\\n",
        "&= \\frac{2}{(a - b)^2} \\Bigl(f(a)(x^2 - (m + b)x + mb) - 2f(m)(x^2 - (a + b)x + ab) + f(b) (x^2 - (a + m)x + am)\\Bigr) \\end{align*}$$\n",
        "\n",
        "Тогда, можно запросто взять интеграл $\\int_a^b P_2(x)dx$ и получить требуемый ответ. Честно посчитаю этот интеграл.\n",
        "\n",
        "$$\\begin{align*}\n",
        "\\int_a^b P_2(x) =& \\int_a^b \\frac{2}{(a - b)^2} \\Bigl(f(a)(x^2 - (m + b)x + mb) - 2f(m)(x^2 - (a + b)x + ab) + f(b) (x^2 - (a + m)x + am)\\Bigr)\n",
        "\\\\\n",
        "=& \\frac{2}{(a - b)^2} \\Bigl(\\frac{f(a)}{3}x^3 - \\frac{f(a)(m + b)}{2} x^2 + f(a)mbx - \\frac{2f(m)}{3}x^3 + f(m)(a + b)x^2 + 2af(m)bx + \\frac{f(b)}{3}x^3 - \\frac{f(b)(a + m)}{2} x^2 + amf(b)x \\Bigr)\\Bigg|_a^b\n",
        "\\\\\n",
        "=& \\frac{2}{(a - b)^2}\\Bigl( \\frac{f(a) - 2f(m) + f(b)}{3}x^3 + \\frac{2f(m)(a + b) - f(a)(m + b) - f(b) (a + m)}{2} x^2 + (f(a)mb + 2af(m)b + amf(b))x \\Bigr) \\Bigg|_a^b\n",
        "\\\\\n",
        "=& \\frac{2}{a - b} \\Bigl( \\frac{f(a) - 2f(m) + f(b)}{3} (b^2 - ab + a^2) + \\frac{2f(m)(a + b) - f(a)(m + b) - f(b) (a + m)}{2} (a + b) + (f(a)mb + 2af(m)b + amf(b)) \\Bigr)\n",
        "\\\\\n",
        "=& \\frac{2}{a - b} \\Bigl( f(a)\\bigl( \\frac{b^2 + ab + a^2}{3} - \\frac{(m + b) (a + b)}{2} + mb \\bigr) - 2f(m) \\bigl( \\frac{b^2 - ab + a^2}{3} - \\frac{a^2 + 2ab + b^2}{2} - ab \\bigr) + f(b) \\bigl( \\frac{b^2 + ab + a^2}{3} - \\frac{(a + m)(a + b)}{2} + am \\bigr) \\Bigr)\n",
        "\\\\\n",
        "=& \\frac{1}{3(a - b)} \\Bigl( f(a) \\bigl( 2b^2 + 2ab +2a^2 - 3(\\frac{a^2 + b^2}{2} + 2ab + b^2) + 3ab + 3b^2 \\bigr) - 2f(m) \\bigl( 2b^2 - 2ab + 2a^2 - 3a^2 - 3b^2 \\bigr) + f(b) \\bigl( 2b^2 + 2ab +2a^2 - 3(\\frac{a^2 + b^2}{2} + a^2 + 2ab) + 3a^2 + 3ab \\bigr) \\Bigr)\n",
        "\\\\\n",
        "=& \\frac{1}{3(a - b)} \\Bigl( f(a)(\\frac{1}{2}b^2 - ab + \\frac{1}{2}a^2) + 2f(m)(a^2 - 2ab + b^2) + f(b)(\\frac{1}{2}b^2 - ab + \\frac{1}{2}a^2) \\Bigr)\n",
        "\\\\\n",
        "=& \\frac{1}{6(a - b)} \\Bigl( f(a)(a - b)^2 + 4f(m)(a - b)^2 + f(b)(a - b)^2 \\Bigr)\n",
        "\\\\\n",
        "=& \\frac{a - b}{6} \\Bigl( f(a) + 4f(m) + f(b) \\Bigr)\n",
        "\\end{align*}$$"
      ],
      "metadata": {
        "id": "mFRv3GPM5_gC"
      }
    },
    {
      "cell_type": "code",
      "source": [
        "import numpy as np\n",
        "import matplotlib.pyplot as plt\n",
        "import sympy as sp\n",
        "from sympy import oo, pi\n",
        "from typing import Tuple, List, Callable\n",
        "import typing\n",
        "import math as mt\n",
        "\n",
        "def SimpsonsRiemannIntegral(func: Callable, from_: float, to_: float, N: int) -> float:\n",
        "  a_b = np.linspace(from_, to_, N)\n",
        "  dx = (to_ - from_) / (N - 1)\n",
        "  sum = 0\n",
        "\n",
        "  for i in range(N - 1):\n",
        "    m = (a_b[i] + a_b[i + 1]) / 2\n",
        "    sum += func(a_b[i]) + 4 * func(m) + func(a_b[i + 1])\n",
        "\n",
        "  sum *= dx\n",
        "  sum /= 6\n",
        "  return sum"
      ],
      "metadata": {
        "id": "T8j0dF8qwP-4"
      },
      "execution_count": 18,
      "outputs": []
    },
    {
      "cell_type": "markdown",
      "source": [
        "Метод Гаусса-Лежандра было бы прекрастно реализовать, уже \"классическая\" для меня задача: дан отрезок $I_i = [a, b]$, найти на нем значение $\\int_a^b f(x) dx$.\n",
        "\n",
        "Метод является наиболее точным из всех, что я здесь реализовывал, он также не требует невероятных вычислений, как в геом решении для интерполяционных полиномов выше.\n",
        "\n",
        "И благодаря некоторой \"магии\" выясняется, что:\n",
        "\n",
        "$$\\int_a^b f(x) dx = \\frac{b - a}{2} \\sum_i w_i f(\\frac{a + b}{2} + \\frac{a - b}{2}x_i) \\\\\n",
        "w_i = \\frac{1}{(1 - x_i^2) (P_n'(x_i))^2}$$\n",
        "\n",
        "Где $x_i - i$-тый корень полинома Лежандра $P_n$.\n",
        "\n",
        "Но сперва требуется понять почему все это работает изначально. Увы, но это приключение затянулось надолго, потому желания делать огромные выкладки прямо здесь у меня нет. Сделаю доп \"лабу\" по полиномам Лежандра.\n",
        "\n"
      ],
      "metadata": {
        "id": "vxYwkW5pA5H6"
      }
    },
    {
      "cell_type": "code",
      "source": [
        "import numpy as np\n",
        "import matplotlib.pyplot as plt\n",
        "import sympy as sp\n",
        "from sympy import oo, pi\n",
        "from typing import Tuple, List, Callable\n",
        "import typing\n",
        "import math as mt\n",
        "\n",
        "def GaussLegendreIntegral(func: Callable, from_: float, to_: float, N: int, highPrecision=False) -> float:\n",
        "  # 2nd and 6th degree\n",
        "  a_b = np.linspace(from_, to_, N)\n",
        "  sum = 0\n",
        "\n",
        "  roots = (- 1 / mt.sqrt(3), 1 / mt.sqrt(3))\n",
        "  weights = (1, 1)\n",
        "\n",
        "  if (highPrecision):\n",
        "    # calculate roots of Legendre polynomials\n",
        "    roots = ()\n",
        "\n",
        "    # then weights\n",
        "    weights = ()\n",
        "    # w_i = 1 / ((1 - x**2) * () ** 2)\n",
        "\n",
        "  for i in range(N - 1):\n",
        "    a = a_b[i]\n",
        "    b = a_b[i + 1]\n",
        "\n",
        "    for (xi, wi) in zip(roots, weights):\n",
        "      sum += wi * func((a + b) / 2 + xi * (b - a) / 2 )\n",
        "\n",
        "  sum *= (to_ - from_) / (N - 1)\n",
        "  sum /= 2\n",
        "\n",
        "  return sum\n",
        "\n",
        "# print(GaussLegendreIntegral(mt.sqrt, 0, float(pi.evalf()), 200))\n",
        "TestAppr(ParabolicRiemannIntegral, SimpsonsRiemannIntegral, GaussLegendreIntegral)"
      ],
      "metadata": {
        "colab": {
          "base_uri": "https://localhost:8080/"
        },
        "id": "ksffWlw0X_mz",
        "outputId": "0136ce79-ef2e-4c53-cdc7-c4003752ac77"
      },
      "execution_count": 19,
      "outputs": [
        {
          "output_type": "stream",
          "name": "stdout",
          "text": [
            "N = 200\n",
            "---sqrtTest---\n",
            "Right value 3.71221866455447\n",
            "ParabolicRiemannIntegral\n",
            "5.69342971585840e-5\n",
            "SimpsonsRiemannIntegral\n",
            "5.69342971608044e-5\n",
            "GaussLegendreIntegral\n",
            "1.44631131502315e-5\n",
            "\n",
            "---expTest---\n",
            "Right value 22.1406926327793\n",
            "ParabolicRiemannIntegral\n",
            "4.77491823858145e-10\n",
            "SimpsonsRiemannIntegral\n",
            "4.77513140140218e-10\n",
            "GaussLegendreIntegral\n",
            "3.18344461902598e-10\n",
            "\n",
            "---cosTest---\n",
            "Right value 1.22464679914735E-16\n",
            "ParabolicRiemannIntegral\n",
            "2.89802224147763e-15\n",
            "SimpsonsRiemannIntegral\n",
            "1.78999330968423e-16\n",
            "GaussLegendreIntegral\n",
            "1.46574422821106e-16\n",
            "\n",
            "N = 2000\n",
            "---sqrtTest---\n",
            "Right value 3.71221866455447\n",
            "ParabolicRiemannIntegral\n",
            "1.78827534602632e-6\n",
            "SimpsonsRiemannIntegral\n",
            "1.78827535579629e-6\n",
            "GaussLegendreIntegral\n",
            "4.54278529016250e-7\n",
            "\n",
            "---expTest---\n",
            "Right value 22.1406926327793\n",
            "ParabolicRiemannIntegral\n",
            "8.17124146124115e-14\n",
            "SimpsonsRiemannIntegral\n",
            "4.97379915032070e-14\n",
            "GaussLegendreIntegral\n",
            "1.42108547152020e-14\n",
            "\n",
            "---cosTest---\n",
            "Right value 1.22464679914735E-16\n",
            "ParabolicRiemannIntegral\n",
            "6.84011806943619e-14\n",
            "SimpsonsRiemannIntegral\n",
            "1.96211841086570e-16\n",
            "GaussLegendreIntegral\n",
            "1.30881246003651e-16\n",
            "\n"
          ]
        }
      ]
    },
    {
      "cell_type": "markdown",
      "source": [
        "Здесь я не расписывал"
      ],
      "metadata": {
        "id": "tXKRDCi9YrLW"
      }
    }
  ]
}