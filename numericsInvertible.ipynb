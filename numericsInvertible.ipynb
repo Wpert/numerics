{
  "nbformat": 4,
  "nbformat_minor": 0,
  "metadata": {
    "colab": {
      "provenance": [],
      "authorship_tag": "ABX9TyNx0TZO4h1JF5JfEkD/1sOD",
      "include_colab_link": true
    },
    "kernelspec": {
      "name": "python3",
      "display_name": "Python 3"
    },
    "language_info": {
      "name": "python"
    }
  },
  "cells": [
    {
      "cell_type": "markdown",
      "metadata": {
        "id": "view-in-github",
        "colab_type": "text"
      },
      "source": [
        "<a href=\"https://colab.research.google.com/github/Wpert/numerics/blob/main/numericsInvertible.ipynb\" target=\"_parent\"><img src=\"https://colab.research.google.com/assets/colab-badge.svg\" alt=\"Open In Colab\"/></a>"
      ]
    },
    {
      "cell_type": "markdown",
      "source": [
        "Задача:\n",
        "\n",
        "Для случайных СЛАУ вида $Ax = b$, размерности $n$, найти обратную матрицу, добавив к ней единичную той же размерности и выполнив над расширенной матрицей преобразованиее Гаусса-Жордана. $(A|E) \\rightarrow (E|A^{-1})$\n",
        "\n",
        "Протетстировать обратную мтарицу, которая сформируется на месте добавленной единичной матрицы, затем найти решение через эту обратную матрицу. ($x = A^{-1}b$)\n",
        "\n",
        "Далее протестировать полученное решение, найдя для него невзяку $dx = b - Ax$.\n",
        "\n",
        "Теория всё та же, что и с методом Гаусса, что очень тривиальна в доказательстве. Потому здесь я даже для себя расписывать ничего не буду. Реализация метода абсолютно такая же, если не проще. Асимптотика решения остаётся всё той же $O(N^3)$.\n",
        "\n",
        "Зато я научусь находить обратную матрицу самостоятельно. Теперь я точно хочу реализовать хотя бы метод гаусса на плюсах."
      ],
      "metadata": {
        "id": "EfviAm0I9V3q"
      }
    },
    {
      "cell_type": "code",
      "execution_count": 88,
      "metadata": {
        "id": "KO23EDI89Scu"
      },
      "outputs": [],
      "source": [
        "import numpy as np\n",
        "from typing import Tuple\n",
        "from sympy import Matrix, init_printing\n",
        "init_printing()\n",
        "\n",
        "def isEqual(x, y) -> bool:\n",
        "  return np.isclose(x, y, rtol=1e-05, atol=1e-08, equal_nan=False)\n",
        "\n",
        "def GenerateMatrixOnes(N: int) -> Tuple[np.ndarray, np.ndarray]:\n",
        "  Matr = np.full((N, N), 0.5) - np.random.rand(N, N)\n",
        "  A = np.dot(Matr.T, Matr)\n",
        "  b = np.zeros((N, 1))\n",
        "  for i in range(N):\n",
        "    b[i] += np.sum(A[i, :])\n",
        "\n",
        "  return (A, b)\n",
        "\n",
        "def GaussianElimination(A: np.ndarray) -> Tuple[np.ndarray, int]:\n",
        "  C = A.copy()\n",
        "  rank: int = 1\n",
        "\n",
        "  for i in range(0, N - 1):\n",
        "    # если на гл. диагонали возник ноль, то поднимаем наверх первую строку\n",
        "    # с ненулевым значением на i-том столбце\n",
        "    if np.abs(C[i, i]) == 0:\n",
        "      for k in range(i + 1, N):\n",
        "        if np.abs(C[k, i]) > np.abs(C[i, i]):\n",
        "          C[[i, k]] = C[[k, i]]\n",
        "          break\n",
        "\n",
        "    # если же весь нижний столбец нулевой, то пропускаем шаг\n",
        "    if (isEqual(C[i, i], 0)):\n",
        "      continue\n",
        "\n",
        "    rank += 1\n",
        "    # сам метод Гаусса\n",
        "    for j in range(i + 1, N):\n",
        "      m = C[j, i] / C[i, i]\n",
        "      C[j, : ] = C[j, : ] - m * C[i, : ]\n",
        "\n",
        "  return (C, rank)\n",
        "\n",
        "def StepBack(C: np.ndarray) -> None:\n",
        "  N = C.shape[0]\n",
        "\n",
        "  for i in range(N - 1, -1, -1):\n",
        "    C[i] /= C[i, i]\n",
        "    for j in range(i - 1, -1, -1):\n",
        "      C[j] -= C[j, i] * C[i]"
      ]
    },
    {
      "cell_type": "code",
      "source": [
        "N: int = 3\n",
        "\n",
        "A, b = GenerateMatrixOnes(N)\n",
        "E = np.eye(N)\n",
        "print(\"Сгенерированная матрица\")\n",
        "display(Matrix(A))\n",
        "\n",
        "C = A.copy()\n",
        "expanded = np.concatenate([C, E], axis=1)\n",
        "print(\"Расширенная матрица\")\n",
        "display(Matrix(expanded))\n",
        "\n",
        "GE_exp, rank = GaussianElimination(expanded)\n",
        "\n",
        "print(f\"Ранг матрицы = {rank}\")\n",
        "if rank == N:\n",
        "  StepBack(GE_exp)\n",
        "\n",
        "invA = np.split(GE_exp, 2, axis=1)[1]\n",
        "\n",
        "x = np.matmul(invA, b)\n",
        "dx = b - np.matmul(A, x)\n",
        "\n",
        "\n",
        "print(\"Расширенная матрица после метода Гаусса\")\n",
        "display(Matrix(GE_exp))\n",
        "print(\"Обратная матрица\")\n",
        "display(Matrix(invA))\n",
        "print(\"Обратная матрица функцией invert\")\n",
        "display(Matrix(np.linalg.inv(A)))\n",
        "print(\"Проверка А * А^-1\")\n",
        "display(Matrix(np.matmul(A, invA)))\n",
        "print(\"Подсчет невязки\")\n",
        "display(Matrix(dx))"
      ],
      "metadata": {
        "colab": {
          "base_uri": "https://localhost:8080/",
          "height": 584
        },
        "id": "upF89A3G3Gq8",
        "outputId": "d301b34e-3064-473b-c1d9-a93b3d49af53"
      },
      "execution_count": 92,
      "outputs": [
        {
          "output_type": "stream",
          "name": "stdout",
          "text": [
            "Сгенерированная матрица\n"
          ]
        },
        {
          "output_type": "display_data",
          "data": {
            "text/plain": [
              "⎡0.348034424333788   0.344606206858123   -0.139039593924358⎤\n",
              "⎢                                                          ⎥\n",
              "⎢0.344606206858123   0.401649174464107   -0.263707732165199⎥\n",
              "⎢                                                          ⎥\n",
              "⎣-0.139039593924358  -0.263707732165199  0.347692660611049 ⎦"
            ],
            "text/latex": "$\\displaystyle \\left[\\begin{matrix}0.348034424333788 & 0.344606206858123 & -0.139039593924358\\\\0.344606206858123 & 0.401649174464107 & -0.263707732165199\\\\-0.139039593924358 & -0.263707732165199 & 0.347692660611049\\end{matrix}\\right]$"
          },
          "metadata": {}
        },
        {
          "output_type": "stream",
          "name": "stdout",
          "text": [
            "Расширенная матрица\n"
          ]
        },
        {
          "output_type": "display_data",
          "data": {
            "text/plain": [
              "⎡0.348034424333788   0.344606206858123   -0.139039593924358  1.0   0    0 ⎤\n",
              "⎢                                                                         ⎥\n",
              "⎢0.344606206858123   0.401649174464107   -0.263707732165199   0   1.0   0 ⎥\n",
              "⎢                                                                         ⎥\n",
              "⎣-0.139039593924358  -0.263707732165199  0.347692660611049    0    0   1.0⎦"
            ],
            "text/latex": "$\\displaystyle \\left[\\begin{matrix}0.348034424333788 & 0.344606206858123 & -0.139039593924358 & 1.0 & 0 & 0\\\\0.344606206858123 & 0.401649174464107 & -0.263707732165199 & 0 & 1.0 & 0\\\\-0.139039593924358 & -0.263707732165199 & 0.347692660611049 & 0 & 0 & 1.0\\end{matrix}\\right]$"
          },
          "metadata": {}
        },
        {
          "output_type": "stream",
          "name": "stdout",
          "text": [
            "Ранг матрицы = 3\n",
            "Расширенная матрица после метода Гаусса\n"
          ]
        },
        {
          "output_type": "display_data",
          "data": {
            "text/plain": [
              "⎡1.0   0    0   113.740218150256   -134.899649971822  -56.8309005566649⎤\n",
              "⎢                                                                      ⎥\n",
              "⎢ 0   1.0   0   -134.899649971822   164.95477068625   71.1647346578908 ⎥\n",
              "⎢                                                                      ⎥\n",
              "⎣ 0    0   1.0  -56.8309005566649  71.1647346578908   34.1248084735649 ⎦"
            ],
            "text/latex": "$\\displaystyle \\left[\\begin{matrix}1.0 & 0 & 0 & 113.740218150256 & -134.899649971822 & -56.8309005566649\\\\0 & 1.0 & 0 & -134.899649971822 & 164.95477068625 & 71.1647346578908\\\\0 & 0 & 1.0 & -56.8309005566649 & 71.1647346578908 & 34.1248084735649\\end{matrix}\\right]$"
          },
          "metadata": {}
        },
        {
          "output_type": "stream",
          "name": "stdout",
          "text": [
            "Обратная матрица\n"
          ]
        },
        {
          "output_type": "display_data",
          "data": {
            "text/plain": [
              "⎡113.740218150256   -134.899649971822  -56.8309005566649⎤\n",
              "⎢                                                       ⎥\n",
              "⎢-134.899649971822   164.95477068625   71.1647346578908 ⎥\n",
              "⎢                                                       ⎥\n",
              "⎣-56.8309005566649  71.1647346578908   34.1248084735649 ⎦"
            ],
            "text/latex": "$\\displaystyle \\left[\\begin{matrix}113.740218150256 & -134.899649971822 & -56.8309005566649\\\\-134.899649971822 & 164.95477068625 & 71.1647346578908\\\\-56.8309005566649 & 71.1647346578908 & 34.1248084735649\\end{matrix}\\right]$"
          },
          "metadata": {}
        },
        {
          "output_type": "stream",
          "name": "stdout",
          "text": [
            "Обратная матрица функцией invert\n"
          ]
        },
        {
          "output_type": "display_data",
          "data": {
            "text/plain": [
              "⎡113.740218150256   -134.899649971822  -56.8309005566649⎤\n",
              "⎢                                                       ⎥\n",
              "⎢-134.899649971822   164.95477068625   71.1647346578908 ⎥\n",
              "⎢                                                       ⎥\n",
              "⎣-56.8309005566649  71.1647346578908   34.1248084735649 ⎦"
            ],
            "text/latex": "$\\displaystyle \\left[\\begin{matrix}113.740218150256 & -134.899649971822 & -56.8309005566649\\\\-134.899649971822 & 164.95477068625 & 71.1647346578908\\\\-56.8309005566649 & 71.1647346578908 & 34.1248084735649\\end{matrix}\\right]$"
          },
          "metadata": {}
        },
        {
          "output_type": "stream",
          "name": "stdout",
          "text": [
            "Проверка А * А^-1\n"
          ]
        },
        {
          "output_type": "display_data",
          "data": {
            "text/plain": [
              "⎡         1.0           1.18970537167505e-15  -5.08953131499752e-16⎤\n",
              "⎢                                                                  ⎥\n",
              "⎢-1.4763856555471e-15     1.00000000000001    -2.91108371275916e-15⎥\n",
              "⎢                                                                  ⎥\n",
              "⎣-1.51446665482957e-15  4.82608151584318e-15           1.0         ⎦"
            ],
            "text/latex": "$\\displaystyle \\left[\\begin{matrix}1.0 & 1.18970537167505 \\cdot 10^{-15} & -5.08953131499752 \\cdot 10^{-16}\\\\-1.4763856555471 \\cdot 10^{-15} & 1.00000000000001 & -2.91108371275916 \\cdot 10^{-15}\\\\-1.51446665482957 \\cdot 10^{-15} & 4.82608151584318 \\cdot 10^{-15} & 1.0\\end{matrix}\\right]$"
          },
          "metadata": {}
        },
        {
          "output_type": "stream",
          "name": "stdout",
          "text": [
            "Подсчет невязки\n"
          ]
        },
        {
          "output_type": "display_data",
          "data": {
            "text/plain": [
              "⎡-6.66133814775094e-16⎤\n",
              "⎢                     ⎥\n",
              "⎢-9.43689570931383e-16⎥\n",
              "⎢                     ⎥\n",
              "⎣6.86950496486816e-16 ⎦"
            ],
            "text/latex": "$\\displaystyle \\left[\\begin{matrix}-6.66133814775094 \\cdot 10^{-16}\\\\-9.43689570931383 \\cdot 10^{-16}\\\\6.86950496486816 \\cdot 10^{-16}\\end{matrix}\\right]$"
          },
          "metadata": {}
        }
      ]
    }
  ]
}