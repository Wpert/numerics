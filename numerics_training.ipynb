{
  "nbformat": 4,
  "nbformat_minor": 0,
  "metadata": {
    "colab": {
      "provenance": [],
      "authorship_tag": "ABX9TyPziQ/E8Ta0t2IrN477Hug5"
    },
    "kernelspec": {
      "name": "python3",
      "display_name": "Python 3"
    },
    "language_info": {
      "name": "python"
    }
  },
  "cells": [
    {
      "cell_type": "code",
      "source": [
        "# there is some python code:\n",
        "import scipy\n",
        "import typing\n",
        "import math\n",
        "import numpy as np\n",
        "import matplotlib.pyplot as plt\n",
        "import fractions\n",
        "from sympy import Matrix, init_printing\n",
        "\n",
        "import typing\n",
        "from typing import List, Any, Dict, Union\n",
        "from dataclasses import dataclass\n",
        "\n",
        "def isEqual(x, y) -> bool:\n",
        "  return np.isclose(x, y, rtol=1e-05, atol=1e-08, equal_nan=False)\n",
        "\n",
        "def toInt(numpyThing) -> int:\n",
        "    return int(np.rint(numpyThing))"
      ],
      "metadata": {
        "id": "luYot7D07uNm"
      },
      "execution_count": 17,
      "outputs": []
    },
    {
      "cell_type": "markdown",
      "source": [
        "Норму точек можно определить разными способами, но обычно при вычислениях пригождаются следующие нормы:\n",
        "\n",
        "1) Сферическая\n",
        "\n",
        "$\\lVert x \\rVert = \\sqrt{(\\vec{x}, \\vec{x})} = \\sqrt{x^2_1 + x^2_2 + \\dots + x^2_n}$,\n",
        "\n",
        "где $(x, y) = x_1 y_1 + x_2 y_2 + \\dots + x_n y_n$\n",
        "\n",
        "2) Октаэдрическая\n",
        "\n",
        "$\\lVert x \\rVert = x_1 + x_2 + \\dots + x_n$\n",
        "\n",
        "3) Квадратная\n",
        "\n",
        "$\\lVert x \\rVert = \\max(x_1, x_2, \\dots, x_n)$\n",
        "\n",
        "Соответственно мне требуется это реализовать"
      ],
      "metadata": {
        "id": "MYOqrAlKVr5X"
      }
    },
    {
      "cell_type": "code",
      "source": [
        "@dataclass\n",
        "class Point:\n",
        "  x: float\n",
        "  y: float\n",
        "\n",
        "def sphereNorm(a: Point, b: Point) -> float:\n",
        "  x = a.x - b.x\n",
        "  y = a.y - b.y\n",
        "  return math.sqrt(x * x + y * y)\n",
        "\n",
        "def octNorm(a: Point, b: Point) -> float:\n",
        "  x = abs(a.x - b.x)\n",
        "  y = abs(a.y - b.y)\n",
        "  return x + y\n",
        "\n",
        "def cubeNorm(a: Point, b: Point) -> float:\n",
        "  x = a.x - b.x\n",
        "  y = a.y - b.y\n",
        "  return max(abs(x), abs(y))\n",
        "\n",
        "a = Point(0.0, 0.0)\n",
        "b = Point(2.0, 4.0)\n",
        "\n",
        "c = Point(a.x - b.x, a.y - b.y)\n",
        "print(f\"oct_norm = {octNorm(a, b)}\")\n",
        "assert(isEqual(octNorm(a, b), abs(c.x) + abs(c.y)))\n",
        "\n",
        "print(f\"sphere_norm = {sphereNorm(a, b)}\")\n",
        "assert(isEqual(math.sqrt(c.x * c.x + c.y * c.y), sphereNorm(a, b)))\n",
        "\n",
        "print(f\"cube_norm = {cubeNorm(a, b)}\")\n",
        "assert(isEqual(max(abs(c.x), abs(c.y)), cubeNorm(a, b)))"
      ],
      "metadata": {
        "colab": {
          "base_uri": "https://localhost:8080/"
        },
        "id": "pMIgDs4u6JrQ",
        "outputId": "853ba188-1571-41bf-e9cc-e774411b8039"
      },
      "execution_count": 18,
      "outputs": [
        {
          "output_type": "stream",
          "name": "stdout",
          "text": [
            "oct_norm = 6.0\n",
            "sphere_norm = 4.47213595499958\n",
            "cube_norm = 4.0\n"
          ]
        }
      ]
    },
    {
      "cell_type": "markdown",
      "source": [
        "Решение систем линейных уравнений методом Крамера:\n",
        "\n",
        "$Ax = b$, где $A$ -- матрица, $x$ и $b$ -- столбцы\n",
        "\n",
        "где $\\vec{x} = \\{x_1, x_2, \\dots, x_n \\}$ -- решение\n",
        "\n",
        "Легкая теорема для 1 семестра, теперь мне надо это как-нибудь запрогать видимо.\n",
        "\n",
        "$A_i$ -- это матрица, в которой заменили $i$-тый столбец на столбец $b$.\n",
        "\n",
        "где $x_i = \\frac{\\displaystyle \\det{A_i}}{\\displaystyle \\det{A}}$"
      ],
      "metadata": {
        "id": "sbnfTiHJV6zV"
      }
    },
    {
      "cell_type": "code",
      "source": [
        "def compareSolutions(sol: np.ndarray, mysol: List[fractions.Fraction]) -> bool:\n",
        "    eps: float = 0.000000001\n",
        "    # может стоит сделать\n",
        "\n",
        "    for i in range(len(mysol)):\n",
        "        if (abs(sol[i, 0] - float(mysol[i])) > eps):\n",
        "            return False\n",
        "\n",
        "    return True\n",
        "\n",
        "def fractionsPrint(ansVector: List[fractions.Fraction]) -> None:\n",
        "    assert(isinstance(ansVector, list))\n",
        "\n",
        "    for number in ansVector:\n",
        "        print(number)\n",
        "\n",
        "def KramersMethod(A: np.ndarray, b: np.ndarray) -> List[fractions.Fraction]:\n",
        "  d: int = toInt(np.linalg.det(A))\n",
        "  width: int = toInt(np.shape(A)[1])\n",
        "  height: int = toInt(np.shape(A)[0])\n",
        "  sol: List[fractions.Fraction] = list()\n",
        "\n",
        "  for i in range(width):\n",
        "    Ai: np.ndarray = np.copy(A)\n",
        "\n",
        "    for j in range(height):\n",
        "      Ai[j][i] = b[j]\n",
        "\n",
        "    sol.append(fractions.Fraction(toInt(np.linalg.det(Ai)), d))\n",
        "\n",
        "  return sol"
      ],
      "metadata": {
        "id": "kcpTzMFevHeu"
      },
      "execution_count": 19,
      "outputs": []
    },
    {
      "cell_type": "code",
      "source": [
        "size: int = 3\n",
        "\n",
        "A = np.random.randint(0, 20, size=(size, size))\n",
        "b = np.random.randint(0, 20, size=(size, 1))\n",
        "print(\"Сгенерированная матрица\", size, \"x\", size)\n",
        "display(Matrix(A))\n",
        "\n",
        "print(\"Сгенерированный столбец\", size, \"x\", 1)\n",
        "display(Matrix(b))\n",
        "\n",
        "print(\"Правильное решение СЛАУ:\")\n",
        "right_sol = np.linalg.solve(A, b)\n",
        "display(Matrix(right_sol))\n",
        "\n",
        "print(\"Моё решение СЛАУ:\")\n",
        "another_sol = KramersMethod(A, b)\n",
        "to_print = np.array(another_sol, dtype=float)\n",
        "display(Matrix(to_print))\n",
        "assert(compareSolutions(right_sol, another_sol))\n"
      ],
      "metadata": {
        "id": "53dWflyBVy5w",
        "colab": {
          "base_uri": "https://localhost:8080/",
          "height": 331
        },
        "outputId": "5808b703-ab00-4c01-c4ef-55e574b3767b"
      },
      "execution_count": 20,
      "outputs": [
        {
          "output_type": "stream",
          "name": "stdout",
          "text": [
            "Сгенерированная матрица 3 x 3\n"
          ]
        },
        {
          "output_type": "display_data",
          "data": {
            "text/plain": [
              "Matrix([\n",
              "[19, 17, 17],\n",
              "[ 5, 10, 12],\n",
              "[14,  5,  0]])"
            ],
            "text/latex": "$\\displaystyle \\left[\\begin{matrix}19 & 17 & 17\\\\5 & 10 & 12\\\\14 & 5 & 0\\end{matrix}\\right]$"
          },
          "metadata": {}
        },
        {
          "output_type": "stream",
          "name": "stdout",
          "text": [
            "Сгенерированный столбец 3 x 1\n"
          ]
        },
        {
          "output_type": "display_data",
          "data": {
            "text/plain": [
              "Matrix([\n",
              "[ 4],\n",
              "[ 2],\n",
              "[17]])"
            ],
            "text/latex": "$\\displaystyle \\left[\\begin{matrix}4\\\\2\\\\17\\end{matrix}\\right]$"
          },
          "metadata": {}
        },
        {
          "output_type": "stream",
          "name": "stdout",
          "text": [
            "Правильное решение СЛАУ:\n"
          ]
        },
        {
          "output_type": "display_data",
          "data": {
            "text/plain": [
              "Matrix([\n",
              "[ -2.1255230125523],\n",
              "[ 9.35146443514643],\n",
              "[-6.74058577405857]])"
            ],
            "text/latex": "$\\displaystyle \\left[\\begin{matrix}-2.1255230125523\\\\9.35146443514643\\\\-6.74058577405857\\end{matrix}\\right]$"
          },
          "metadata": {}
        },
        {
          "output_type": "stream",
          "name": "stdout",
          "text": [
            "Моё решение СЛАУ:\n"
          ]
        },
        {
          "output_type": "display_data",
          "data": {
            "text/plain": [
              "Matrix([\n",
              "[ -2.1255230125523],\n",
              "[ 9.35146443514644],\n",
              "[-6.74058577405858]])"
            ],
            "text/latex": "$\\displaystyle \\left[\\begin{matrix}-2.1255230125523\\\\9.35146443514644\\\\-6.74058577405858\\end{matrix}\\right]$"
          },
          "metadata": {}
        }
      ]
    },
    {
      "cell_type": "markdown",
      "source": [
        "В своих следующих лабораторных работах я буду реализовывать более эффективные методы решения СЛАУ, чем метод Крамера.\n",
        "\n",
        "Пока что план на лабы такой:\n",
        "\n",
        "1) Итерационный методы решения СЛАУ\n",
        "\n",
        "2) Метод Гаусса\n",
        "\n",
        "3, 4, ...) Подумаем ещё"
      ],
      "metadata": {
        "id": "18_i7pXXbuNR"
      }
    }
  ]
}